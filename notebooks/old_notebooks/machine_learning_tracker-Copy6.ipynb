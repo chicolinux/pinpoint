{
 "cells": [
  {
   "cell_type": "code",
   "execution_count": 1,
   "metadata": {
    "collapsed": false
   },
   "outputs": [
    {
     "name": "stderr",
     "output_type": "stream",
     "text": [
      "/opt/local/Library/Frameworks/Python.framework/Versions/2.7/lib/python2.7/site-packages/IPython/html.py:14: ShimWarning: The `IPython.html` package has been deprecated. You should import from `notebook` instead. `IPython.html.widgets` has moved to `ipywidgets`.\n",
      "  \"`IPython.html.widgets` has moved to `ipywidgets`.\", ShimWarning)\n"
     ]
    }
   ],
   "source": [
    "# -*- coding: utf-8 -*-\n",
    "\n",
    "import cv2 \n",
    "import numpy as np\n",
    "import matplotlib.pyplot as plt\n",
    "import seaborn as sns\n",
    "import pandas as pd\n",
    "import datetime as dt\n",
    "from scipy.spatial import distance as dist\n",
    "sns.set_style('ticks')\n",
    "%matplotlib inline\n"
   ]
  },
  {
   "cell_type": "code",
   "execution_count": 2,
   "metadata": {
    "collapsed": true
   },
   "outputs": [],
   "source": [
    "def add_border(tag, tag_shape, white_width = 1, black_width = 2):\n",
    "    \n",
    "    \"\"\"Add black and white border to barcode tag.\n",
    "        \n",
    "        Parameters\n",
    "        ----------\n",
    "        tag : 1-D array_like\n",
    "            Flattened barcode tag.\n",
    "        tag_shape : tuple of int\n",
    "            Shape of the barcode tag without a border.\n",
    "        white_width : int\n",
    "            Width of white border.\n",
    "        black_width : int\n",
    "            Width of black border.\n",
    "            \n",
    "        Returns\n",
    "        -------\n",
    "        bordered_tag : 1-D array\n",
    "            Returns tag with border added flattened to 1-D array.\n",
    "        \"\"\"\n",
    "    \n",
    "    tag = np.asarray(tag)\n",
    "    tag = tag.reshape(tag_shape)\n",
    "\n",
    "    black_border = np.zeros((tag_shape[0]+(2*white_width)+(2*black_width),tag_shape[1]+(2*white_width)+(2*black_width)))\n",
    "    white_border = np.ones((tag_shape[0]+(2*white_width),tag_shape[1]+(2*white_width)))\n",
    "    \n",
    "    white_border[white_width:tag_shape[0]+white_width,white_width:tag_shape[1]+white_width] = tag\n",
    "    black_border[black_width:tag_shape[0]+(2*white_width)+black_width, black_width:tag_shape[1]+(2*white_width)+black_width] = white_border\n",
    "\n",
    "    tag = black_border\n",
    "    bordered_tag = tag.reshape((1,tag.shape[0]*tag.shape[1]))\n",
    "    tag_shape = black_border.shape\n",
    "    return  tag_shape, bordered_tag"
   ]
  },
  {
   "cell_type": "code",
   "execution_count": 3,
   "metadata": {
    "collapsed": false
   },
   "outputs": [
    {
     "data": {
      "text/plain": [
       "(600, 25)"
      ]
     },
     "execution_count": 3,
     "metadata": {},
     "output_type": "execute_result"
    }
   ],
   "source": [
    "master_list = np.load(\"/Users/Jake/opal/master_list.npy\")\n",
    "master_list = master_list[:600]\n",
    "master_list.shape"
   ]
  },
  {
   "cell_type": "code",
   "execution_count": 4,
   "metadata": {
    "collapsed": false
   },
   "outputs": [
    {
     "data": {
      "text/plain": [
       "array([[ 1.,  1.,  1., ...,  1.,  1.,  1.],\n",
       "       [ 1.,  1.,  1., ...,  1.,  1.,  1.],\n",
       "       [ 1.,  1.,  1., ...,  1.,  1.,  1.],\n",
       "       ..., \n",
       "       [ 1.,  1.,  1., ...,  1.,  1.,  1.],\n",
       "       [ 1.,  1.,  1., ...,  1.,  1.,  1.],\n",
       "       [ 1.,  1.,  1., ...,  1.,  1.,  1.]])"
      ]
     },
     "execution_count": 4,
     "metadata": {},
     "output_type": "execute_result"
    }
   ],
   "source": [
    "barcode_size = (7,7)\n",
    "barcodes = []\n",
    "for barcode in master_list:\n",
    "    tag_shape, barcode = add_border(barcode, (5,5), white_width = 1, black_width = 0)\n",
    "    barcode = barcode.reshape(tag_shape)\n",
    "    barcode = cv2.resize(barcode, barcode_size, interpolation = cv2.INTER_AREA)\n",
    "    #plt.imshow(barcode, cmap = 'gray', interpolation = 'None')\n",
    "    #plt.show()\n",
    "    barcode = barcode.flatten()\n",
    "    barcodes.append(barcode)\n",
    "barcodes = np.array(barcodes)\n",
    "#barcodes[barcodes == 0] = 0\n",
    "#barcodes[barcodes == 1] = 255\n",
    "barcodes"
   ]
  },
  {
   "cell_type": "code",
   "execution_count": 5,
   "metadata": {
    "collapsed": false
   },
   "outputs": [
    {
     "data": {
      "text/plain": [
       "array([  0,   0,   0,   0,   1,   1,   1,   1,   2,   2,   2,   2,   3,\n",
       "         3,   3,   3,   4,   4,   4,   4,   5,   5,   5,   5,   6,   6,\n",
       "         6,   6,   7,   7,   7,   7,   8,   8,   8,   8,   9,   9,   9,\n",
       "         9,  10,  10,  10,  10,  11,  11,  11,  11,  12,  12,  12,  12,\n",
       "        13,  13,  13,  13,  14,  14,  14,  14,  15,  15,  15,  15,  16,\n",
       "        16,  16,  16,  17,  17,  17,  17,  18,  18,  18,  18,  19,  19,\n",
       "        19,  19,  20,  20,  20,  20,  21,  21,  21,  21,  22,  22,  22,\n",
       "        22,  23,  23,  23,  23,  24,  24,  24,  24,  25,  25,  25,  25,\n",
       "        26,  26,  26,  26,  27,  27,  27,  27,  28,  28,  28,  28,  29,\n",
       "        29,  29,  29,  30,  30,  30,  30,  31,  31,  31,  31,  32,  32,\n",
       "        32,  32,  33,  33,  33,  33,  34,  34,  34,  34,  35,  35,  35,\n",
       "        35,  36,  36,  36,  36,  37,  37,  37,  37,  38,  38,  38,  38,\n",
       "        39,  39,  39,  39,  40,  40,  40,  40,  41,  41,  41,  41,  42,\n",
       "        42,  42,  42,  43,  43,  43,  43,  44,  44,  44,  44,  45,  45,\n",
       "        45,  45,  46,  46,  46,  46,  47,  47,  47,  47,  48,  48,  48,\n",
       "        48,  49,  49,  49,  49,  50,  50,  50,  50,  51,  51,  51,  51,\n",
       "        52,  52,  52,  52,  53,  53,  53,  53,  54,  54,  54,  54,  55,\n",
       "        55,  55,  55,  56,  56,  56,  56,  57,  57,  57,  57,  58,  58,\n",
       "        58,  58,  59,  59,  59,  59,  60,  60,  60,  60,  61,  61,  61,\n",
       "        61,  62,  62,  62,  62,  63,  63,  63,  63,  64,  64,  64,  64,\n",
       "        65,  65,  65,  65,  66,  66,  66,  66,  67,  67,  67,  67,  68,\n",
       "        68,  68,  68,  69,  69,  69,  69,  70,  70,  70,  70,  71,  71,\n",
       "        71,  71,  72,  72,  72,  72,  73,  73,  73,  73,  74,  74,  74,\n",
       "        74,  75,  75,  75,  75,  76,  76,  76,  76,  77,  77,  77,  77,\n",
       "        78,  78,  78,  78,  79,  79,  79,  79,  80,  80,  80,  80,  81,\n",
       "        81,  81,  81,  82,  82,  82,  82,  83,  83,  83,  83,  84,  84,\n",
       "        84,  84,  85,  85,  85,  85,  86,  86,  86,  86,  87,  87,  87,\n",
       "        87,  88,  88,  88,  88,  89,  89,  89,  89,  90,  90,  90,  90,\n",
       "        91,  91,  91,  91,  92,  92,  92,  92,  93,  93,  93,  93,  94,\n",
       "        94,  94,  94,  95,  95,  95,  95,  96,  96,  96,  96,  97,  97,\n",
       "        97,  97,  98,  98,  98,  98,  99,  99,  99,  99, 100, 100, 100,\n",
       "       100, 101, 101, 101, 101, 102, 102, 102, 102, 103, 103, 103, 103,\n",
       "       104, 104, 104, 104, 105, 105, 105, 105, 106, 106, 106, 106, 107,\n",
       "       107, 107, 107, 108, 108, 108, 108, 109, 109, 109, 109, 110, 110,\n",
       "       110, 110, 111, 111, 111, 111, 112, 112, 112, 112, 113, 113, 113,\n",
       "       113, 114, 114, 114, 114, 115, 115, 115, 115, 116, 116, 116, 116,\n",
       "       117, 117, 117, 117, 118, 118, 118, 118, 119, 119, 119, 119, 120,\n",
       "       120, 120, 120, 121, 121, 121, 121, 122, 122, 122, 122, 123, 123,\n",
       "       123, 123, 124, 124, 124, 124, 125, 125, 125, 125, 126, 126, 126,\n",
       "       126, 127, 127, 127, 127, 128, 128, 128, 128, 129, 129, 129, 129,\n",
       "       130, 130, 130, 130, 131, 131, 131, 131, 132, 132, 132, 132, 133,\n",
       "       133, 133, 133, 134, 134, 134, 134, 135, 135, 135, 135, 136, 136,\n",
       "       136, 136, 137, 137, 137, 137, 138, 138, 138, 138, 139, 139, 139,\n",
       "       139, 140, 140, 140, 140, 141, 141, 141, 141, 142, 142, 142, 142,\n",
       "       143, 143, 143, 143, 144, 144, 144, 144, 145, 145, 145, 145, 146,\n",
       "       146, 146, 146, 147, 147, 147, 147, 148, 148, 148, 148, 149, 149,\n",
       "       149, 149])"
      ]
     },
     "execution_count": 5,
     "metadata": {},
     "output_type": "execute_result"
    }
   ],
   "source": [
    "ID_list = []\n",
    "for i in range(len(barcodes)/4):\n",
    "    ID = [i,i,i,i]\n",
    "    ID_list.append(ID)\n",
    "ID_array = np.array(ID_list)\n",
    "IDs = ID_array.flatten()\n",
    "IDs"
   ]
  },
  {
   "cell_type": "code",
   "execution_count": 6,
   "metadata": {
    "collapsed": false
   },
   "outputs": [],
   "source": [
    "def crop(src, pt1, pt2):\n",
    "    \n",
    "    \"\"\" Returns a cropped version of src \"\"\"\n",
    "    \n",
    "    cropped = src[pt1[1]:pt2[1], pt1[0]:pt2[0]]\n",
    "    \n",
    "    return cropped\n",
    "\n",
    "\"\"\"def order_points(pts):\n",
    "\t# initialzie a list of coordinates that will be ordered\n",
    "\t# such that the first entry in the list is the top-left,\n",
    "\t# the second entry is the top-right, the third is the\n",
    "\t# bottom-right, and the fourth is the bottom-left\n",
    "\trect = np.zeros((4, 2), dtype = 'float32')\n",
    " \n",
    "\t# the top-left point will have the smallest sum, whereas\n",
    "\t# the bottom-right point will have the largest sum\n",
    "\ts = pts.sum(axis = 1)\n",
    "\trect[0] = pts[np.argmin(s)]\n",
    "\trect[2] = pts[np.argmax(s)]\n",
    " \n",
    "\t# now, compute the difference between the points, the\n",
    "\t# top-right point will have the smallest difference,\n",
    "\t# whereas the bottom-left will have the largest difference\n",
    "\tdiff = np.diff(pts, axis = 1)\n",
    "\trect[1] = pts[np.argmin(diff)]\n",
    "\trect[3] = pts[np.argmax(diff)]\n",
    " \n",
    "\t# return the ordered coordinates\n",
    "\treturn rect\"\"\"\n",
    "\n",
    "def order_points(pts):\n",
    "    # sort the points based on their x-coordinates\n",
    "    xSorted = pts[np.argsort(pts[:, 0]), :]\n",
    " \n",
    "    # grab the left-most and right-most points from the sorted\n",
    "    # x-roodinate points\n",
    "    leftMost = xSorted[:2, :]\n",
    "    rightMost = xSorted[2:, :]\n",
    " \n",
    "    # now, sort the left-most coordinates according to their\n",
    "    # y-coordinates so we can grab the top-left and bottom-left\n",
    "    # points, respectively\n",
    "    leftMost = leftMost[np.argsort(leftMost[:, 1]), :]\n",
    "    (tl, bl) = leftMost\n",
    " \n",
    "    # now that we have the top-left coordinate, use it as an\n",
    "    # anchor to calculate the Euclidean distance between the\n",
    "    # top-left and right-most points; by the Pythagorean\n",
    "    # theorem, the point with the largest distance will be\n",
    "    # our bottom-right point\n",
    "    D = dist.cdist(tl[np.newaxis], rightMost, \"euclidean\")[0]\n",
    "    (br, tr) = rightMost[np.argsort(D)[::-1], :]\n",
    "    \n",
    "    # return the coordinates in top-left, top-right,\n",
    "    # bottom-right, and bottom-left order\n",
    "    return np.array([tl, tr, br, bl], dtype=\"float32\")\n",
    "\n",
    "def four_point_transform(image, pts):\n",
    "    # obtain a consistent order of the points and unpack them\n",
    "    # individually\n",
    "    rect = pts\n",
    "    (tl, tr, br, bl) = rect\n",
    " \n",
    "    # compute the width of the new image, which will be the\n",
    "    # maximum distance between bottom-right and bottom-left\n",
    "    # x-coordiates or the top-right and top-left x-coordinates\n",
    "    widthA = np.sqrt(((br[0] - bl[0]) ** 2) + ((br[1] - bl[1]) ** 2))\n",
    "    widthB = np.sqrt(((tr[0] - tl[0]) ** 2) + ((tr[1] - tl[1]) ** 2))\n",
    "    #maxWidth = max(int(widthA), int(widthB))\n",
    " \n",
    "    # compute the height of the new image, which will be the\n",
    "    # maximum distance between the top-right and bottom-right\n",
    "    # y-coordinates or the top-left and bottom-left y-coordinates\n",
    "    heightA = np.sqrt(((tr[0] - br[0]) ** 2) + ((tr[1] - br[1]) ** 2))\n",
    "    heightB = np.sqrt(((tl[0] - bl[0]) ** 2) + ((tl[1] - bl[1]) ** 2))\n",
    "    #maxHeight = max(int(heightA), int(heightB))\n",
    " \n",
    "    # now that we have the dimensions of the new image, construct\n",
    "    # the set of destination points to obtain a \"birds eye view\",\n",
    "    # (i.e. top-down view) of the image, again specifying points\n",
    "    # in the top-left, top-right, bottom-right, and bottom-left\n",
    "    # order\n",
    "    maxSide = max(int(widthA), int(widthB), int(heightA), int(heightB))\n",
    "    dst = np.array([\n",
    "        [0, 0],\n",
    "        [maxSide - 1, 0],\n",
    "        [maxSide - 1, maxSide - 1],\n",
    "        [0, maxSide - 1]], dtype = \"float32\")\n",
    " \n",
    "    # compute the perspective transform matrix and then apply it\n",
    "    M = cv2.getPerspectiveTransform(rect, dst)\n",
    "    warped = cv2.warpPerspective(image, M, (maxSide, maxSide))\n",
    " \n",
    "    # return the warped image\n",
    "    return warped\n",
    "\n",
    "def corr2_coeff(A,B):\n",
    "    # Rowwise mean of input arrays & subtract from input arrays themeselves\n",
    "    A_mA = np.subtract(A, A.mean(1)[:,None])\n",
    "    B_mB = np.subtract(B, B.mean(1)[:,None])\n",
    "\n",
    "    # Sum of squares across rows\n",
    "    ssA = np.square(A_mA).sum(1)\n",
    "    ssB = np.square(B_mB).sum(1)\n",
    "\n",
    "    # Finally get corr coeff\n",
    "    return np.divide(np.dot(A_mA,B_mB.T), np.sqrt(np.dot(ssA[:,None],ssB[None])))\n",
    "\n",
    "def unit_vector(vector):\n",
    "\t\n",
    "\t\"\"\" Returns the unit vector of the vector.  \"\"\"\n",
    "\t\n",
    "\treturn np.divide(vector, np.linalg.norm(vector))\n",
    "\n",
    "def angle(v1, v2, degrees = True):\n",
    "\t\n",
    "\t\"\"\"Returns the angle between vectors 'v1' and 'v2'.\n",
    "\t\t\n",
    "\t\tParameters\n",
    "\t\t----------\n",
    "\t\tv1 : 1-D array_like\n",
    "\t\t\tN-dimensional vector.\n",
    "\t\tv2 : 1-D array_like\n",
    "\t\t\tN-dimensional vector.\n",
    "\t\tdegrees : bool, default = True\n",
    "\t\t\tReturn angle in degrees.\n",
    "\t\t\t\n",
    "\t\tReturns\n",
    "\t\t-------\n",
    "\t\tangle : float\n",
    "\t\t\tAngle between v1 and v2.\n",
    "\t\t\n",
    "\t\t\"\"\"\n",
    "\t\n",
    "\tv1_u = unit_vector(v1)\n",
    "\tv2_u = unit_vector(v2)\n",
    "\tangle = np.arccos(np.dot(v1_u, v2_u))\n",
    "\tif np.isnan(angle):\n",
    "\t\tif (v1_u == v2_u).all():\n",
    "\t\t\treturn 0.0\n",
    "\t\telse:\n",
    "\t\t\treturn np.pi\n",
    "\tif degrees == True:\n",
    "\t\tangle = np.degrees(angle)\n",
    "\treturn angle"
   ]
  },
  {
   "cell_type": "code",
   "execution_count": 8,
   "metadata": {
    "collapsed": false,
    "scrolled": true
   },
   "outputs": [
    {
     "name": "stdout",
     "output_type": "stream",
     "text": [
      "1.32573754933\n"
     ]
    }
   ],
   "source": [
    "#pt1 = (1200,500)\n",
    "#pt2 = (2800,1500)\n",
    "#cap = cv2.VideoCapture(\"/Users/Jake/Google Drive/test.mov\") \n",
    "#pt1 = (0,0)\n",
    "#pt2 = (1080,1500)\n",
    "#cap = cv2.VideoCapture(\"/Users/Jake/Google Drive/VID_20160719_103625.mp4\") \n",
    "cap = cv2.VideoCapture(\"/Users/Jake/Downloads/VID_20160722_115829 copy 4.mp4\") \n",
    "\n",
    "\n",
    "#cap = cv2.VideoCapture(\"/Users/Jake/Google Drive/CLIP0000075_000.mov\")\n",
    "#pt1 = (1000,0)\n",
    "#pt2 = (3160,2160)\n",
    "\n",
    "parea_list = []\n",
    "\n",
    "resize_f = 1\n",
    "n_frames = 0\n",
    "\n",
    "best_values = []\n",
    "matched_list = []\n",
    "area_list = []\n",
    "# Define the codec and create VideoWriter object\n",
    "fourcc = cv2.VideoWriter_fourcc('A','V','C','1')\n",
    "#out = cv2.VideoWriter('output.mp4',fourcc, 15.0, (1960, 1080), True)\n",
    "t0 = dt.datetime.now()\n",
    "convex_bool_list = []\n",
    "\n",
    "\n",
    "\n",
    "n_cnts_start = 0\n",
    "n_cnts_area = 0\n",
    "n_cnts_poly = 0\n",
    "n_cnts_predict = 0\n",
    "n_cnts_pixels = 0\n",
    "n_cnts_pixels = 0\n",
    "\n",
    "font = cv2.FONT_HERSHEY_SIMPLEX\n",
    "\n",
    "flat_len = barcode_size[0]*barcode_size[1]    \n",
    "while cap.isOpened():  \n",
    "    \n",
    "    ret, img = cap.read()\n",
    "    \n",
    "    if ret:\n",
    "        n_tags = 0\n",
    "        contours_list = []\n",
    "        features_list = []\n",
    "        pixel_values = []\n",
    "        warped_list = []\n",
    "\n",
    "        cropped = img\n",
    "\n",
    "        #cropped = crop(img, pt1, pt2)\n",
    "        #cropped = cv2.resize(cropped, (0,0), None, fx = 0.33, fy = 0.33, interpolation = cv2.INTER_LINEAR)\n",
    "        #cropped = cv2.resize(cropped, (0,0), None, fx = 3, fy = 3, interpolation = cv2.INTER_LINEAR)\n",
    "\n",
    "        display_img = cropped.copy()\n",
    "        \n",
    "        _, gray, _ = cv2.split(cropped)\n",
    "        blurred = cv2.GaussianBlur(gray, (81,81), 1)\n",
    "        resized = blurred #cv2.resize(blurred, (0,0), None, fx = resize_f, fy = resize_f, interpolation = cv2.INTER_AREA)\n",
    "        thresh = cv2.adaptiveThreshold(resized, 255, cv2.ADAPTIVE_THRESH_MEAN_C, cv2.THRESH_BINARY, 101, 41)\n",
    "        #ret, thresh = cv2.threshold(resized, 100, 200, cv2.THRESH_BINARY)\n",
    "        contour_image, contours, hierarchy = cv2.findContours(thresh.copy(), cv2.RETR_TREE, cv2.CHAIN_APPROX_SIMPLE)\n",
    "        #cv2.drawContours(display_img, contours, -1, (0,0,255), 3)\n",
    "        edge_thresh = 1\n",
    "        maxx_thresh = cropped.shape[1] - edge_thresh\n",
    "        maxy_thresh = cropped.shape[0] - edge_thresh\n",
    "        for cnt in contours:\n",
    "\n",
    "            if cnt.shape[0] >= 4:\n",
    "                \n",
    "                area = cv2.contourArea(cnt, True)\n",
    "                n_cnts_start += 1\n",
    "\n",
    "                if -800*resize_f > area > -8000*resize_f: \n",
    "                    cnt_shape = cnt.shape\n",
    "                    cnt_reshape = cnt.reshape((cnt_shape[0], cnt_shape[2]))\n",
    "                    cnt_x = cnt_reshape[:,0]\n",
    "                    cnt_y = cnt_reshape[:,1]\n",
    "                    flat = cnt.flatten()\n",
    "                    edge_zero = np.sum(flat <= edge_thresh)\n",
    "                    edge_maxx = np.sum(cnt_x >= maxx_thresh)\n",
    "                    edge_maxy = np.sum(cnt_y >= maxy_thresh)\n",
    "\n",
    "                    if edge_zero == 0 and edge_maxx == 0 and edge_maxy == 0:\n",
    "                        \n",
    "                        peri_cnt = cv2.arcLength(cnt, True)\n",
    "\n",
    "                        approx = cv2.approxPolyDP(cnt, 0.07 * peri_cnt, True)\n",
    "                    \n",
    "                        cv2.drawContours(display_img, [approx], -1, (0,0,255), 3)\n",
    "\n",
    "                        poly_area = cv2.contourArea(approx, True)\n",
    "                        n_cnts_area += 1\n",
    "\n",
    "                        if len(approx) == 4 and -800 > poly_area > -8000 and cv2.isContourConvex(approx):\n",
    "\n",
    "                            cv2.drawContours(display_img, [approx], -1, (0,255,255), 3)\n",
    "                            #convex = cv2.convexHull(cnt)\n",
    "                            #peri_convex = cv2.arcLength(convex, True)\n",
    "                            #convex_area = cv2.contourArea(convex)\n",
    "                            #carea = area/convex_area\n",
    "                            #peri_area = peri_cnt/area\n",
    "\n",
    "                            #parea = area/poly_area\n",
    "                            #parea_list.append(parea)\n",
    "\n",
    "                            #(x,y),radius = cv2.minEnclosingCircle(cnt)\n",
    "                            #circ_area = np.pi * radius**2\n",
    "                            #circ_area = area/circ_area\n",
    "\n",
    "                            #features_list = [[0,0,0,0],[peri_area, carea, parea, circ_area]]\n",
    "                            #features = np.array(features_list)\n",
    "                            #prediction = clf.predict(features)\n",
    "\n",
    "                            n_cnts_poly += 1\n",
    "\n",
    "                            if True:#prediction[1] == 1:#\n",
    "                                \n",
    "                                cnt_shape = approx.shape\n",
    "                                pts = approx.reshape((cnt_shape[0], cnt_shape[-1]))\n",
    "\n",
    "                                pts = order_points(pts)\n",
    "                                (tl, tr, br, bl) = pts\n",
    "                                warped = four_point_transform(gray, pts/resize_f)\n",
    "                                warped_list.append(warped)\n",
    "                                pixels = warped\n",
    "                                #pixels_centered = np.subtract(pixels, pixels.mean())\n",
    "                                #pixels_standard = np.divide(pixels_centered, pixels.std())\n",
    "                                resize_warp = cv2.resize(pixels, barcode_size, interpolation = cv2.INTER_AREA)\n",
    "                                #resize_warp = resize_warp[1:-1,1:-1]\n",
    "\n",
    "                                pixels = resize_warp.flatten()\n",
    "                                pixel_values.append(pixels)\n",
    "\n",
    "                                #pixels_centered = np.subtract(pixels, pixels.mean())\n",
    "                                #pixels_standard = np.divide(pixels_centered, pixels.std())\n",
    "                                #test = np.repeat([pixels_standard], barcodes.shape[0], axis = 0)\n",
    "                                #matched = np.multiply(test, barcodes)\n",
    "                                correlation = corr2_coeff(barcodes, pixels.reshape((1,flat_len)))\n",
    "                                #matched_sum = np.mean(matched, axis = 1)\n",
    "                                #matched_list.append(matched_sum)\n",
    "                                best_value = np.max(correlation)\n",
    "                                \n",
    "                                n_cnts_predict += 1\n",
    "                                best_values.append(best_value)\n",
    "\n",
    "                                if best_value > 0.1:\n",
    "                                    best_values.append(best_value)\n",
    "                                    contours_list.append(cnt/resize_f)\n",
    "                                    #area_list.append(area)\n",
    "                                    rad = 10\n",
    "                                    pts = pts/resize_f\n",
    "                                    area_list.append(area)\n",
    "                                    best_index = np.argmax(correlation)\n",
    "                                    \n",
    "                                    ID = IDs[best_index]\n",
    "                                    centroid = tuple(pts.mean(0))\n",
    "                                    rotate_test = best_index % 4\n",
    "                                    if rotate_test == 3:\n",
    "                                        edge = tuple(np.mean([tl, tr], axis = 0))\n",
    "                                    if rotate_test == 0:\n",
    "                                        edge = tuple(np.mean([tl, bl], axis = 0))\n",
    "                                    if rotate_test == 1:\n",
    "                                        edge = tuple(np.mean([br, bl], axis = 0))\n",
    "                                    if rotate_test == 2:\n",
    "                                        edge = tuple(np.mean([br, tr], axis = 0))\n",
    "                                    cv2.drawContours(display_img, [approx/resize_f], -1, (0,255,0), 3)\n",
    "\n",
    "                                    #cv2.circle(display_img,tuple(pts[0]), rad, (255,0,0), -1)\n",
    "                                    #cv2.circle(display_img,tuple(pts[1]), rad, (0,255,0), -1)\n",
    "                                    #cv2.circle(display_img,tuple(pts[2]), rad, (0,0,255), -1)\n",
    "                                    #cv2.circle(display_img,tuple(pts[3]), rad, (255,0,255), -1)\n",
    "                                    #cv2.circle(display_img,centroid, rad, (0,255,0), -1)\n",
    "                                    \n",
    "                                    vector = np.subtract(edge, centroid)\n",
    "                                    vector_angle = angle(vector, [1,0])\n",
    "                                    angle_str = '%.0f' % vector_angle\n",
    "                                    #cv2.putText(display_img,str(ID),centroid, font, 1,(0,0,0),15,cv2.LINE_AA)\n",
    "                                    #cv2.putText(display_img,str(ID),centroid, font, 1,(255,255,255),3,cv2.LINE_AA)\n",
    "                                    \n",
    "                                    cv2.line(display_img, centroid, edge, (0,0,255), 10)\n",
    "                                    cv2.putText(display_img,angle_str,centroid, font, 1,(0,0,0),15,cv2.LINE_AA)\n",
    "                                    cv2.putText(display_img,angle_str,centroid, font, 1,(255,255,255),3,cv2.LINE_AA)\n",
    "\n",
    "                                    #cv2.putText(display_img,str(best_value)[:4],centroid, font, 1,(0,0,0),15,cv2.LINE_AA)\n",
    "                                    #cv2.putText(display_img,str(best_value)[:4],centroid, font, 1,(255,255,255),3,cv2.LINE_AA)\n",
    "\n",
    "                                    n_cnts_pixels += 1\n",
    "                                    n_tags += 1\n",
    "        pixel_values = np.array(pixel_values)\n",
    "\n",
    "        cv2.putText(display_img,\"Number of Barcodes: \" + str(n_tags),(5,30), font, 1,(0,0,0),15,cv2.LINE_AA)\n",
    "        cv2.putText(display_img,\"Number of Barcodes: \" + str(n_tags),(5,30), font, 1,(255,255,255),3,cv2.LINE_AA)\n",
    "\n",
    "        display_img = cv2.resize(display_img, (1960,1080), None)\n",
    "        #display_img = cv2.resize(display_img, (1000,1000), None)\n",
    "\n",
    "        #display_img = cv2.resize(display_img, (0,0), None, fx = 0.01, fy = 0.01)\n",
    "\n",
    "        thresh = cv2.resize(thresh, (1960,1080), None)\n",
    "\n",
    "        #thresh = cv2.resize(thresh, (640,360), None)\n",
    "        #thresh = cv2.cvtColor(thresh, cv2.COLOR_GRAY2BGR)\n",
    "        #display_img[-360:,-640:] = thresh\n",
    "\n",
    "        #out.write(display_img)\n",
    "        cv2.imshow('Video', display_img)\n",
    "        #cv2.imshow('gray', gray)\n",
    "        #cv2.imshow(\"thresh\", thresh)\n",
    "        n_frames += 1\n",
    "    else:\n",
    "        break\n",
    "    if cv2.waitKey(1) & 0xFF == 27:\n",
    "        break\n",
    "        \n",
    "cap.release()\n",
    "#out.release()\n",
    "cv2.destroyAllWindows()\n",
    "\n",
    "for i in range(5):\n",
    "    cv2.waitKey(1)\n",
    "    \n",
    "t1 = dt.datetime.now()\n",
    "\n",
    "dtime = t1 - t0\n",
    "dtime = dtime.total_seconds()\n",
    "fps = n_frames/dtime\n",
    "print fps"
   ]
  },
  {
   "cell_type": "code",
   "execution_count": null,
   "metadata": {
    "collapsed": false
   },
   "outputs": [],
   "source": [
    "best_index"
   ]
  },
  {
   "cell_type": "code",
   "execution_count": 10,
   "metadata": {
    "collapsed": false
   },
   "outputs": [
    {
     "data": {
      "image/png": "[encoded data removed]",
      "text/plain": [
       "<matplotlib.figure.Figure at 0x113aab850>"
      ]
     },
     "metadata": {},
     "output_type": "display_data"
    },
    {
     "data": {
      "image/png": "[encoded data removed]",
      "text/plain": [
       "<matplotlib.figure.Figure at 0x113b75350>"
      ]
     },
     "metadata": {},
     "output_type": "display_data"
    },
    {
     "data": {
      "image/png": "[encoded data removed]",
      "text/plain": [
       "<matplotlib.figure.Figure at 0x113d90950>"
      ]
     },
     "metadata": {},
     "output_type": "display_data"
    }
   ],
   "source": [
    "plt.imshow(warped, cmap = 'gray', interpolation = 'none')\n",
    "plt.show()\n",
    "plt.imshow(resize_warp, cmap = 'gray', interpolation = 'none')\n",
    "plt.show()\n",
    "plt.imshow(barcodes[best_index].reshape(barcode_size), cmap = 'gray', interpolation = 'none')\n",
    "plt.show()"
   ]
  },
  {
   "cell_type": "code",
   "execution_count": 42,
   "metadata": {
    "collapsed": false
   },
   "outputs": [
    {
     "data": {
      "text/plain": [
       "3"
      ]
     },
     "execution_count": 42,
     "metadata": {},
     "output_type": "execute_result"
    }
   ],
   "source": [
    "7 % 4"
   ]
  },
  {
   "cell_type": "code",
   "execution_count": 13,
   "metadata": {
    "collapsed": false
   },
   "outputs": [
    {
     "data": {
      "image/png": "[encoded data removed]",
      "text/plain": [
       "<matplotlib.figure.Figure at 0x113f80750>"
      ]
     },
     "metadata": {},
     "output_type": "display_data"
    }
   ],
   "source": [
    "plt.figure(figsize = (20,10))\n",
    "plt.plot(np.arange(len(best_values)), best_values, 'k.', alpha = 0.5)\n",
    "plt.ylim(-1,1)\n",
    "plt.show()"
   ]
  },
  {
   "cell_type": "code",
   "execution_count": null,
   "metadata": {
    "collapsed": true
   },
   "outputs": [],
   "source": []
  }
 ],
 "metadata": {
  "kernelspec": {
   "display_name": "Python 2",
   "language": "python",
   "name": "python2"
  },
  "language_info": {
   "codemirror_mode": {
    "name": "ipython",
    "version": 2
   },
   "file_extension": ".py",
   "mimetype": "text/x-python",
   "name": "python",
   "nbconvert_exporter": "python",
   "pygments_lexer": "ipython2",
   "version": "2.7.11"
  }
 },
 "nbformat": 4,
 "nbformat_minor": 0
}
