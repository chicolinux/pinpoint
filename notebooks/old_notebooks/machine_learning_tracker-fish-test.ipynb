{
 "cells": [
  {
   "cell_type": "code",
   "execution_count": 4,
   "metadata": {
    "collapsed": false
   },
   "outputs": [],
   "source": [
    "# -*- coding: utf-8 -*-\n",
    "\n",
    "import cv2 \n",
    "import numpy as np\n",
    "import matplotlib.pyplot as plt\n",
    "import seaborn as sns\n",
    "import pandas as pd\n",
    "import datetime as dt\n",
    "from scipy.spatial import distance as dist\n",
    "from pinpoint import TagList\n",
    "import glob\n",
    "sns.set_style('ticks')\n",
    "%matplotlib inline\n",
    "cv2.setNumThreads(0)\n"
   ]
  },
  {
   "cell_type": "code",
   "execution_count": 5,
   "metadata": {
    "collapsed": true
   },
   "outputs": [],
   "source": [
    "def add_border(tag, tag_shape, white_width = 1, black_width = 2):\n",
    "    \n",
    "    \"\"\"Add black and white border to barcode tag.\n",
    "        \n",
    "        Parameters\n",
    "        ----------\n",
    "        tag : 1-D array_like\n",
    "            Flattened barcode tag.\n",
    "        tag_shape : tuple of int\n",
    "            Shape of the barcode tag without a border.\n",
    "        white_width : int\n",
    "            Width of white border.\n",
    "        black_width : int\n",
    "            Width of black border.\n",
    "            \n",
    "        Returns\n",
    "        -------\n",
    "        bordered_tag : 1-D array\n",
    "            Returns tag with border added flattened to 1-D array.\n",
    "        \"\"\"\n",
    "    \n",
    "    tag = np.asarray(tag)\n",
    "    tag = tag.reshape(tag_shape)\n",
    "\n",
    "    black_border = np.zeros((tag_shape[0]+(2*white_width)+(2*black_width),tag_shape[1]+(2*white_width)+(2*black_width)))\n",
    "    white_border = np.ones((tag_shape[0]+(2*white_width),tag_shape[1]+(2*white_width)))\n",
    "    \n",
    "    white_border[white_width:tag_shape[0]+white_width,white_width:tag_shape[1]+white_width] = tag\n",
    "    black_border[black_width:tag_shape[0]+(2*white_width)+black_width, black_width:tag_shape[1]+(2*white_width)+black_width] = white_border\n",
    "\n",
    "    tag = black_border\n",
    "    bordered_tag = tag.reshape((1,tag.shape[0]*tag.shape[1]))\n",
    "    tag_shape = black_border.shape\n",
    "    return  tag_shape, bordered_tag"
   ]
  },
  {
   "cell_type": "code",
   "execution_count": 7,
   "metadata": {
    "collapsed": false
   },
   "outputs": [],
   "source": [
    "tags = TagList()\n",
    "#tags.load('/Users/Jake/Google Drive/barcodes_for_fish/master_list.pkl')\n",
    "#tags.load('/Users/Jake/Google Drive/7bit_barcodes/master_list.pkl')\n",
    "\n",
    "master_list = np.load(\"/home/jake/Downloads/master_list.npy\")#tags.master_list"
   ]
  },
  {
   "cell_type": "code",
   "execution_count": 8,
   "metadata": {
    "collapsed": false
   },
   "outputs": [
    {
     "data": {
      "text/plain": [
       "array([[0, 1, 1, ..., 1, 1, 0],\n",
       "       [1, 1, 0, ..., 0, 0, 0],\n",
       "       [0, 1, 1, ..., 1, 1, 0],\n",
       "       ..., \n",
       "       [0, 0, 1, ..., 0, 1, 1],\n",
       "       [0, 0, 0, ..., 0, 1, 1],\n",
       "       [1, 1, 0, ..., 1, 0, 0]], dtype=uint8)"
      ]
     },
     "execution_count": 8,
     "metadata": {},
     "output_type": "execute_result"
    }
   ],
   "source": [
    "master_list"
   ]
  },
  {
   "cell_type": "code",
   "execution_count": 9,
   "metadata": {
    "collapsed": false
   },
   "outputs": [],
   "source": [
    "IDs = [i for i in range(master_list.shape[0])]#tags.id_list"
   ]
  },
  {
   "cell_type": "code",
   "execution_count": 10,
   "metadata": {
    "collapsed": false
   },
   "outputs": [
    {
     "data": {
      "text/plain": [
       "[0,\n",
       " 1,\n",
       " 2,\n",
       " 3,\n",
       " 4,\n",
       " 5,\n",
       " 6,\n",
       " 7,\n",
       " 8,\n",
       " 9,\n",
       " 10,\n",
       " 11,\n",
       " 12,\n",
       " 13,\n",
       " 14,\n",
       " 15,\n",
       " 16,\n",
       " 17,\n",
       " 18,\n",
       " 19,\n",
       " 20,\n",
       " 21,\n",
       " 22,\n",
       " 23,\n",
       " 24,\n",
       " 25,\n",
       " 26,\n",
       " 27,\n",
       " 28,\n",
       " 29,\n",
       " 30,\n",
       " 31,\n",
       " 32,\n",
       " 33,\n",
       " 34,\n",
       " 35,\n",
       " 36,\n",
       " 37,\n",
       " 38,\n",
       " 39,\n",
       " 40,\n",
       " 41,\n",
       " 42,\n",
       " 43,\n",
       " 44,\n",
       " 45,\n",
       " 46,\n",
       " 47,\n",
       " 48,\n",
       " 49,\n",
       " 50,\n",
       " 51,\n",
       " 52,\n",
       " 53,\n",
       " 54,\n",
       " 55,\n",
       " 56,\n",
       " 57,\n",
       " 58,\n",
       " 59,\n",
       " 60,\n",
       " 61,\n",
       " 62,\n",
       " 63,\n",
       " 64,\n",
       " 65,\n",
       " 66,\n",
       " 67,\n",
       " 68,\n",
       " 69,\n",
       " 70,\n",
       " 71,\n",
       " 72,\n",
       " 73,\n",
       " 74,\n",
       " 75,\n",
       " 76,\n",
       " 77,\n",
       " 78,\n",
       " 79,\n",
       " 80,\n",
       " 81,\n",
       " 82,\n",
       " 83,\n",
       " 84,\n",
       " 85,\n",
       " 86,\n",
       " 87,\n",
       " 88,\n",
       " 89,\n",
       " 90,\n",
       " 91,\n",
       " 92,\n",
       " 93,\n",
       " 94,\n",
       " 95,\n",
       " 96,\n",
       " 97,\n",
       " 98,\n",
       " 99,\n",
       " 100,\n",
       " 101,\n",
       " 102,\n",
       " 103,\n",
       " 104,\n",
       " 105,\n",
       " 106,\n",
       " 107,\n",
       " 108,\n",
       " 109,\n",
       " 110,\n",
       " 111,\n",
       " 112,\n",
       " 113,\n",
       " 114,\n",
       " 115,\n",
       " 116,\n",
       " 117,\n",
       " 118,\n",
       " 119,\n",
       " 120,\n",
       " 121,\n",
       " 122,\n",
       " 123,\n",
       " 124,\n",
       " 125,\n",
       " 126,\n",
       " 127,\n",
       " 128,\n",
       " 129,\n",
       " 130,\n",
       " 131,\n",
       " 132,\n",
       " 133,\n",
       " 134,\n",
       " 135,\n",
       " 136,\n",
       " 137,\n",
       " 138,\n",
       " 139,\n",
       " 140,\n",
       " 141,\n",
       " 142,\n",
       " 143,\n",
       " 144,\n",
       " 145,\n",
       " 146,\n",
       " 147,\n",
       " 148,\n",
       " 149,\n",
       " 150,\n",
       " 151,\n",
       " 152,\n",
       " 153,\n",
       " 154,\n",
       " 155,\n",
       " 156,\n",
       " 157,\n",
       " 158,\n",
       " 159,\n",
       " 160,\n",
       " 161,\n",
       " 162,\n",
       " 163,\n",
       " 164,\n",
       " 165,\n",
       " 166,\n",
       " 167,\n",
       " 168,\n",
       " 169,\n",
       " 170,\n",
       " 171,\n",
       " 172,\n",
       " 173,\n",
       " 174,\n",
       " 175,\n",
       " 176,\n",
       " 177,\n",
       " 178,\n",
       " 179,\n",
       " 180,\n",
       " 181,\n",
       " 182,\n",
       " 183,\n",
       " 184,\n",
       " 185,\n",
       " 186,\n",
       " 187,\n",
       " 188,\n",
       " 189,\n",
       " 190,\n",
       " 191,\n",
       " 192,\n",
       " 193,\n",
       " 194,\n",
       " 195,\n",
       " 196,\n",
       " 197,\n",
       " 198,\n",
       " 199,\n",
       " 200,\n",
       " 201,\n",
       " 202,\n",
       " 203,\n",
       " 204,\n",
       " 205,\n",
       " 206,\n",
       " 207,\n",
       " 208,\n",
       " 209,\n",
       " 210,\n",
       " 211,\n",
       " 212,\n",
       " 213,\n",
       " 214,\n",
       " 215,\n",
       " 216,\n",
       " 217,\n",
       " 218,\n",
       " 219,\n",
       " 220,\n",
       " 221,\n",
       " 222,\n",
       " 223,\n",
       " 224,\n",
       " 225,\n",
       " 226,\n",
       " 227,\n",
       " 228,\n",
       " 229,\n",
       " 230,\n",
       " 231,\n",
       " 232,\n",
       " 233,\n",
       " 234,\n",
       " 235,\n",
       " 236,\n",
       " 237,\n",
       " 238,\n",
       " 239,\n",
       " 240,\n",
       " 241,\n",
       " 242,\n",
       " 243,\n",
       " 244,\n",
       " 245,\n",
       " 246,\n",
       " 247,\n",
       " 248,\n",
       " 249,\n",
       " 250,\n",
       " 251,\n",
       " 252,\n",
       " 253,\n",
       " 254,\n",
       " 255,\n",
       " 256,\n",
       " 257,\n",
       " 258,\n",
       " 259,\n",
       " 260,\n",
       " 261,\n",
       " 262,\n",
       " 263,\n",
       " 264,\n",
       " 265,\n",
       " 266,\n",
       " 267,\n",
       " 268,\n",
       " 269,\n",
       " 270,\n",
       " 271,\n",
       " 272,\n",
       " 273,\n",
       " 274,\n",
       " 275,\n",
       " 276,\n",
       " 277,\n",
       " 278,\n",
       " 279,\n",
       " 280,\n",
       " 281,\n",
       " 282,\n",
       " 283,\n",
       " 284,\n",
       " 285,\n",
       " 286,\n",
       " 287,\n",
       " 288,\n",
       " 289,\n",
       " 290,\n",
       " 291,\n",
       " 292,\n",
       " 293,\n",
       " 294,\n",
       " 295,\n",
       " 296,\n",
       " 297,\n",
       " 298,\n",
       " 299,\n",
       " 300,\n",
       " 301,\n",
       " 302,\n",
       " 303,\n",
       " 304,\n",
       " 305,\n",
       " 306,\n",
       " 307,\n",
       " 308,\n",
       " 309,\n",
       " 310,\n",
       " 311,\n",
       " 312,\n",
       " 313,\n",
       " 314,\n",
       " 315,\n",
       " 316,\n",
       " 317,\n",
       " 318,\n",
       " 319,\n",
       " 320,\n",
       " 321,\n",
       " 322,\n",
       " 323,\n",
       " 324,\n",
       " 325,\n",
       " 326,\n",
       " 327,\n",
       " 328,\n",
       " 329,\n",
       " 330,\n",
       " 331,\n",
       " 332,\n",
       " 333,\n",
       " 334,\n",
       " 335,\n",
       " 336,\n",
       " 337,\n",
       " 338,\n",
       " 339,\n",
       " 340,\n",
       " 341,\n",
       " 342,\n",
       " 343,\n",
       " 344,\n",
       " 345,\n",
       " 346,\n",
       " 347,\n",
       " 348,\n",
       " 349,\n",
       " 350,\n",
       " 351,\n",
       " 352,\n",
       " 353,\n",
       " 354,\n",
       " 355,\n",
       " 356,\n",
       " 357,\n",
       " 358,\n",
       " 359,\n",
       " 360,\n",
       " 361,\n",
       " 362,\n",
       " 363,\n",
       " 364,\n",
       " 365,\n",
       " 366,\n",
       " 367,\n",
       " 368,\n",
       " 369,\n",
       " 370,\n",
       " 371,\n",
       " 372,\n",
       " 373,\n",
       " 374,\n",
       " 375,\n",
       " 376,\n",
       " 377,\n",
       " 378,\n",
       " 379,\n",
       " 380,\n",
       " 381,\n",
       " 382,\n",
       " 383,\n",
       " 384,\n",
       " 385,\n",
       " 386,\n",
       " 387,\n",
       " 388,\n",
       " 389,\n",
       " 390,\n",
       " 391,\n",
       " 392,\n",
       " 393,\n",
       " 394,\n",
       " 395,\n",
       " 396,\n",
       " 397,\n",
       " 398,\n",
       " 399,\n",
       " 400,\n",
       " 401,\n",
       " 402,\n",
       " 403,\n",
       " 404,\n",
       " 405,\n",
       " 406,\n",
       " 407,\n",
       " 408,\n",
       " 409,\n",
       " 410,\n",
       " 411,\n",
       " 412,\n",
       " 413,\n",
       " 414,\n",
       " 415,\n",
       " 416,\n",
       " 417,\n",
       " 418,\n",
       " 419,\n",
       " 420,\n",
       " 421,\n",
       " 422,\n",
       " 423,\n",
       " 424,\n",
       " 425,\n",
       " 426,\n",
       " 427,\n",
       " 428,\n",
       " 429,\n",
       " 430,\n",
       " 431,\n",
       " 432,\n",
       " 433,\n",
       " 434,\n",
       " 435,\n",
       " 436,\n",
       " 437,\n",
       " 438,\n",
       " 439,\n",
       " 440,\n",
       " 441,\n",
       " 442,\n",
       " 443,\n",
       " 444,\n",
       " 445,\n",
       " 446,\n",
       " 447,\n",
       " 448,\n",
       " 449,\n",
       " 450,\n",
       " 451,\n",
       " 452,\n",
       " 453,\n",
       " 454,\n",
       " 455,\n",
       " 456,\n",
       " 457,\n",
       " 458,\n",
       " 459,\n",
       " 460,\n",
       " 461,\n",
       " 462,\n",
       " 463,\n",
       " 464,\n",
       " 465,\n",
       " 466,\n",
       " 467,\n",
       " 468,\n",
       " 469,\n",
       " 470,\n",
       " 471,\n",
       " 472,\n",
       " 473,\n",
       " 474,\n",
       " 475,\n",
       " 476,\n",
       " 477,\n",
       " 478,\n",
       " 479,\n",
       " 480,\n",
       " 481,\n",
       " 482,\n",
       " 483,\n",
       " 484,\n",
       " 485,\n",
       " 486,\n",
       " 487,\n",
       " 488,\n",
       " 489,\n",
       " 490,\n",
       " 491,\n",
       " 492,\n",
       " 493,\n",
       " 494,\n",
       " 495,\n",
       " 496,\n",
       " 497,\n",
       " 498,\n",
       " 499,\n",
       " 500,\n",
       " 501,\n",
       " 502,\n",
       " 503,\n",
       " 504,\n",
       " 505,\n",
       " 506,\n",
       " 507,\n",
       " 508,\n",
       " 509,\n",
       " 510,\n",
       " 511,\n",
       " 512,\n",
       " 513,\n",
       " 514,\n",
       " 515,\n",
       " 516,\n",
       " 517,\n",
       " 518,\n",
       " 519,\n",
       " 520,\n",
       " 521,\n",
       " 522,\n",
       " 523,\n",
       " 524,\n",
       " 525,\n",
       " 526,\n",
       " 527,\n",
       " 528,\n",
       " 529,\n",
       " 530,\n",
       " 531,\n",
       " 532,\n",
       " 533,\n",
       " 534,\n",
       " 535,\n",
       " 536,\n",
       " 537,\n",
       " 538,\n",
       " 539,\n",
       " 540,\n",
       " 541,\n",
       " 542,\n",
       " 543,\n",
       " 544,\n",
       " 545,\n",
       " 546,\n",
       " 547,\n",
       " 548,\n",
       " 549,\n",
       " 550,\n",
       " 551,\n",
       " 552,\n",
       " 553,\n",
       " 554,\n",
       " 555,\n",
       " 556,\n",
       " 557,\n",
       " 558,\n",
       " 559,\n",
       " 560,\n",
       " 561,\n",
       " 562,\n",
       " 563,\n",
       " 564,\n",
       " 565,\n",
       " 566,\n",
       " 567,\n",
       " 568,\n",
       " 569,\n",
       " 570,\n",
       " 571,\n",
       " 572,\n",
       " 573,\n",
       " 574,\n",
       " 575,\n",
       " 576,\n",
       " 577,\n",
       " 578,\n",
       " 579,\n",
       " 580,\n",
       " 581,\n",
       " 582,\n",
       " 583,\n",
       " 584,\n",
       " 585,\n",
       " 586,\n",
       " 587,\n",
       " 588,\n",
       " 589,\n",
       " 590,\n",
       " 591,\n",
       " 592,\n",
       " 593,\n",
       " 594,\n",
       " 595,\n",
       " 596,\n",
       " 597,\n",
       " 598,\n",
       " 599,\n",
       " 600,\n",
       " 601,\n",
       " 602,\n",
       " 603,\n",
       " 604,\n",
       " 605,\n",
       " 606,\n",
       " 607,\n",
       " 608,\n",
       " 609,\n",
       " 610,\n",
       " 611,\n",
       " 612,\n",
       " 613,\n",
       " 614,\n",
       " 615,\n",
       " 616,\n",
       " 617,\n",
       " 618,\n",
       " 619,\n",
       " 620,\n",
       " 621,\n",
       " 622,\n",
       " 623,\n",
       " 624,\n",
       " 625,\n",
       " 626,\n",
       " 627,\n",
       " 628,\n",
       " 629,\n",
       " 630,\n",
       " 631,\n",
       " 632,\n",
       " 633,\n",
       " 634,\n",
       " 635,\n",
       " 636,\n",
       " 637,\n",
       " 638,\n",
       " 639,\n",
       " 640,\n",
       " 641,\n",
       " 642,\n",
       " 643,\n",
       " 644,\n",
       " 645,\n",
       " 646,\n",
       " 647,\n",
       " 648,\n",
       " 649,\n",
       " 650,\n",
       " 651,\n",
       " 652,\n",
       " 653,\n",
       " 654,\n",
       " 655,\n",
       " 656,\n",
       " 657,\n",
       " 658,\n",
       " 659,\n",
       " 660,\n",
       " 661,\n",
       " 662,\n",
       " 663,\n",
       " 664,\n",
       " 665,\n",
       " 666,\n",
       " 667,\n",
       " 668,\n",
       " 669,\n",
       " 670,\n",
       " 671,\n",
       " 672,\n",
       " 673,\n",
       " 674,\n",
       " 675,\n",
       " 676,\n",
       " 677,\n",
       " 678,\n",
       " 679,\n",
       " 680,\n",
       " 681,\n",
       " 682,\n",
       " 683,\n",
       " 684,\n",
       " 685,\n",
       " 686,\n",
       " 687,\n",
       " 688,\n",
       " 689,\n",
       " 690,\n",
       " 691,\n",
       " 692,\n",
       " 693,\n",
       " 694,\n",
       " 695,\n",
       " 696,\n",
       " 697,\n",
       " 698,\n",
       " 699,\n",
       " 700,\n",
       " 701,\n",
       " 702,\n",
       " 703,\n",
       " 704,\n",
       " 705,\n",
       " 706,\n",
       " 707,\n",
       " 708,\n",
       " 709,\n",
       " 710,\n",
       " 711,\n",
       " 712,\n",
       " 713,\n",
       " 714,\n",
       " 715,\n",
       " 716,\n",
       " 717,\n",
       " 718,\n",
       " 719,\n",
       " 720,\n",
       " 721,\n",
       " 722,\n",
       " 723,\n",
       " 724,\n",
       " 725,\n",
       " 726,\n",
       " 727,\n",
       " 728,\n",
       " 729,\n",
       " 730,\n",
       " 731,\n",
       " 732,\n",
       " 733,\n",
       " 734,\n",
       " 735,\n",
       " 736,\n",
       " 737,\n",
       " 738,\n",
       " 739,\n",
       " 740,\n",
       " 741,\n",
       " 742,\n",
       " 743,\n",
       " 744,\n",
       " 745,\n",
       " 746,\n",
       " 747,\n",
       " 748,\n",
       " 749,\n",
       " 750,\n",
       " 751,\n",
       " 752,\n",
       " 753,\n",
       " 754,\n",
       " 755,\n",
       " 756,\n",
       " 757,\n",
       " 758,\n",
       " 759,\n",
       " 760,\n",
       " 761,\n",
       " 762,\n",
       " 763,\n",
       " 764,\n",
       " 765,\n",
       " 766,\n",
       " 767,\n",
       " 768,\n",
       " 769,\n",
       " 770,\n",
       " 771,\n",
       " 772,\n",
       " 773,\n",
       " 774,\n",
       " 775,\n",
       " 776,\n",
       " 777,\n",
       " 778,\n",
       " 779,\n",
       " 780,\n",
       " 781,\n",
       " 782,\n",
       " 783,\n",
       " 784,\n",
       " 785,\n",
       " 786,\n",
       " 787,\n",
       " 788,\n",
       " 789,\n",
       " 790,\n",
       " 791,\n",
       " 792,\n",
       " 793,\n",
       " 794,\n",
       " 795,\n",
       " 796,\n",
       " 797,\n",
       " 798,\n",
       " 799,\n",
       " 800,\n",
       " 801,\n",
       " 802,\n",
       " 803,\n",
       " 804,\n",
       " 805,\n",
       " 806,\n",
       " 807,\n",
       " 808,\n",
       " 809,\n",
       " 810,\n",
       " 811,\n",
       " 812,\n",
       " 813,\n",
       " 814,\n",
       " 815,\n",
       " 816,\n",
       " 817,\n",
       " 818,\n",
       " 819,\n",
       " 820,\n",
       " 821,\n",
       " 822,\n",
       " 823,\n",
       " 824,\n",
       " 825,\n",
       " 826,\n",
       " 827,\n",
       " 828,\n",
       " 829,\n",
       " 830,\n",
       " 831,\n",
       " 832,\n",
       " 833,\n",
       " 834,\n",
       " 835,\n",
       " 836,\n",
       " 837,\n",
       " 838,\n",
       " 839,\n",
       " 840,\n",
       " 841,\n",
       " 842,\n",
       " 843]"
      ]
     },
     "execution_count": 10,
     "metadata": {},
     "output_type": "execute_result"
    }
   ],
   "source": [
    "IDs"
   ]
  },
  {
   "cell_type": "code",
   "execution_count": 30,
   "metadata": {
    "collapsed": false
   },
   "outputs": [],
   "source": [
    "#master_list = master_list[(161 <= IDs) & ( IDs <= 180)]\n",
    "#master_list = master_list[(IDs == 163) | (IDs == 178) | (IDs == 162)]"
   ]
  },
  {
   "cell_type": "code",
   "execution_count": 31,
   "metadata": {
    "collapsed": false
   },
   "outputs": [],
   "source": [
    "#IDs = IDs[(161 <= IDs) & ( IDs <= 180)]\n",
    "#IDs = IDs[(IDs == 163) | (IDs == 178) | (IDs == 162)]"
   ]
  },
  {
   "cell_type": "code",
   "execution_count": 11,
   "metadata": {
    "collapsed": false
   },
   "outputs": [
    {
     "data": {
      "text/plain": [
       "array([[ 1.,  1.,  1., ...,  1.,  1.,  1.],\n",
       "       [ 1.,  1.,  1., ...,  1.,  1.,  1.],\n",
       "       [ 1.,  1.,  1., ...,  1.,  1.,  1.],\n",
       "       ..., \n",
       "       [ 1.,  1.,  1., ...,  1.,  1.,  1.],\n",
       "       [ 1.,  1.,  1., ...,  1.,  1.,  1.],\n",
       "       [ 1.,  1.,  1., ...,  1.,  1.,  1.]])"
      ]
     },
     "execution_count": 11,
     "metadata": {},
     "output_type": "execute_result"
    }
   ],
   "source": [
    "barcode_size = (7,7)\n",
    "barcodes = []\n",
    "for barcode in master_list:\n",
    "    tag_shape, barcode = add_border(barcode, (5,5), white_width = 1, black_width = 0)\n",
    "    barcode = barcode.reshape(tag_shape)\n",
    "    barcode = cv2.resize(barcode, barcode_size, interpolation = cv2.INTER_AREA)\n",
    "    #plt.imshow(barcode, cmap = 'gray', interpolation = 'None')\n",
    "    #plt.show()\n",
    "    barcode = barcode.flatten()\n",
    "    barcodes.append(barcode)\n",
    "barcodes = np.array(barcodes)\n",
    "#barcodes[barcodes == 0] = 0\n",
    "#barcodes[barcodes == 1] = 255\n",
    "barcodes"
   ]
  },
  {
   "cell_type": "code",
   "execution_count": 12,
   "metadata": {
    "collapsed": false
   },
   "outputs": [],
   "source": [
    "def crop(src, pt1, pt2):\n",
    "    \n",
    "    \"\"\" Returns a cropped version of src \"\"\"\n",
    "    \n",
    "    cropped = src[pt1[1]:pt2[1], pt1[0]:pt2[0]]\n",
    "    \n",
    "    return cropped\n",
    "\n",
    "def distance(vector):\n",
    " \n",
    "    \"\"\" Return distance of vector \"\"\"\n",
    "\n",
    "    return np.sqrt(np.sum(np.square(vector)))\n",
    "\n",
    "def order_points(pts):\n",
    "    # sort the points based on their x-coordinates\n",
    "    sorted_ = pts[np.argsort(pts[:, 0]), :]\n",
    " \n",
    "    # grab the left-most and right-most points from the sorted\n",
    "    # x-roodinate points\n",
    "    left = sorted_[:2, :]\n",
    "    right = sorted_[2:, :]\n",
    " \n",
    "    # now, sort the left-most coordinates according to their\n",
    "    # y-coordinates so we can grab the top-left and bottom-left\n",
    "    # points, respectively\n",
    "    left = left[np.argsort(left[:, 1]), :]\n",
    "    (tl, bl) = left\n",
    " \n",
    "    # now that we have the top-left coordinate, use it as an\n",
    "    # anchor to calculate the Euclidean distance between the\n",
    "    # top-left and right-most points; by the Pythagorean\n",
    "    # theorem, the point with the largest distance will be\n",
    "    # our bottom-right point\n",
    "    D = dist.cdist(tl[np.newaxis], right, \"euclidean\")[0]\n",
    "    (br, tr) = right[np.argsort(D)[::-1], :]\n",
    "    \n",
    "    # return the coordinates in top-left, top-right,\n",
    "    # bottom-right, and bottom-left order\n",
    "    return np.array([tl, tr, br, bl], dtype=\"float32\")\n",
    "\n",
    "def corr2_coeff(A,B):\n",
    "    # Rowwise mean of input arrays & subtract from input arrays themeselves\n",
    "    A_mA = np.subtract(A, A.mean(1)[:,None])\n",
    "    B_mB = np.subtract(B, B.mean(1)[:,None])\n",
    "\n",
    "    # Sum of squares across rows\n",
    "    ssA = np.square(A_mA).sum(1)\n",
    "    ssB = np.square(B_mB).sum(1)\n",
    "\n",
    "    # Finally get corr coeff\n",
    "    return np.divide(np.dot(A_mA,B_mB.T), np.sqrt(np.dot(ssA[:,None],ssB[None])))\n",
    "\n",
    "def unit_vector(vector):\n",
    "\t\n",
    "\t\"\"\" Returns the unit vector of the vector.  \"\"\"\n",
    "\t\n",
    "\treturn np.divide(vector, np.linalg.norm(vector))\n",
    "\n",
    "def angle(v1, v2, degrees = True):\n",
    "\t\n",
    "\t\"\"\"Returns the angle between vectors 'v1' and 'v2'.\n",
    "\t\t\n",
    "\t\tParameters\n",
    "\t\t----------\n",
    "\t\tv1 : 1-D array_like\n",
    "\t\t\tN-dimensional vector.\n",
    "\t\tv2 : 1-D array_like\n",
    "\t\t\tN-dimensional vector.\n",
    "\t\tdegrees : bool, default = True\n",
    "\t\t\tReturn angle in degrees.\n",
    "\t\t\t\n",
    "\t\tReturns\n",
    "\t\t-------\n",
    "\t\tangle : float\n",
    "\t\t\tAngle between v1 and v2.\n",
    "\t\t\n",
    "\t\t\"\"\"\n",
    "\t\n",
    "\tv1_u = unit_vector(v1)\n",
    "\tv2_u = unit_vector(v2)\n",
    "\tangle = np.arccos(np.dot(v1_u, v2_u))\n",
    "\tif np.isnan(angle):\n",
    "\t\tif (v1_u == v2_u).all():\n",
    "\t\t\treturn 0.0\n",
    "\t\telse:\n",
    "\t\t\treturn np.pi\n",
    "\tif degrees == True:\n",
    "\t\tangle = np.degrees(angle)\n",
    "\treturn angle\n",
    "\n",
    "def get_grayscale(color_image, channel = None):\n",
    "\n",
    "\t\"\"\" Returns single-channel grayscale image from 3-channel BGR color image.\n",
    "\n",
    "\t\tParameters\n",
    "\t\t----------\n",
    "\t\tcolor_image : (MxNx3) numpy array\n",
    "\t\t\t3-channel BGR-format color image as a numpy array\n",
    "\t\tchannel : {'blue', 'green', 'red', 'none', None}, default = None\n",
    "\t\t\tThe color channel to use for producing the grayscale image.\n",
    "\t\t\tNone and 'none' default to cv2.cvtColor() using cv2.COLOR_BGR2GRAY. \n",
    "\t\t\tChannels 'blue', 'green', and 'red' use the respective color channel as the grayscale image. \n",
    "\t\t\tChannel 'green' typically provides the lowest noise, but this will depend on the lighting in the image.\n",
    "\t\t\t\n",
    "\t\tReturns\n",
    "\t\t-------\n",
    "\t\tgray_image : (MxNx1) numpy array\n",
    "\t\t\tSingle-channel grayscale image as a numpy array.\n",
    "\n",
    "\t\"\"\"\n",
    "\tassert channel in ['blue', 'green', 'red', 'none', None], \"channel must be 'blue', 'green', 'red', 'none', or None\"\n",
    "\tassert type(color_image) == np.ndarray, \"image must be a numpy array\"\n",
    "\n",
    "\timage_shape = color_image.shape\n",
    "\tassert len(image_shape) == 3, \"image must be color\"\n",
    "\tassert color_image.shape[2] == 3, \"image must have 3 color channels\"\n",
    "\tassert color_image.dtype == np.uint8, \"image array must be dtype np.uint8\"\n",
    "\n",
    "\tif channel == 'blue':\n",
    "\t\tgray_image, _, _ = cv2.split(color_image)\n",
    "\tif channel == 'green':\n",
    "\t\t\t_, gray_image, _ = cv2.split(color_image)\n",
    "\tif channel == 'red':\n",
    "\t\t_, _, gray_image = cv2.split(color_image)\n",
    "\tif channel == None or channel == 'none':\n",
    "\t\tgray_image = cv2.cvtColor(color_image, cv2.COLOR_BGR2GRAY)\n",
    "\n",
    "\treturn gray_image\n",
    "\n",
    "def get_threshold(gray_image, block_size = 1001, offset = 2):\n",
    "\n",
    "\t\"\"\" Returns binarized thresholded image from single-channel grayscale image.\n",
    "\n",
    "\t\tParameters\n",
    "\t\t----------\n",
    "\t\tgray_image : (MxNx1) numpy array\n",
    "\t\t\tSingle-channel grayscale image as a numpy array\n",
    "\t\tblock_size : int, default = 1001\n",
    "\t\t\tOdd value integer. Size of the local neighborhood for adaptive thresholding.\n",
    "\t\toffset : default = 2\n",
    "\t\t\tConstant subtracted from the mean. Normally, it is positive but may be zero or negative as well. \n",
    "\t\t\tThe threshold value T(x,y) is a mean of the block_size x block_size neighborhood of (x, y) minus offset.\n",
    "\n",
    "\t\tReturns\n",
    "\t\t-------\n",
    "\t\tthreshold_image : (MxNx1) numpy array\n",
    "\t\t\tBinarized (0, 255) image as a numpy array.\n",
    "\n",
    "\t\"\"\"\n",
    "\n",
    "\tassert block_size % 2 == 1, \"block_size must be an odd value\"\n",
    "\tassert type(gray_image) == np.ndarray, \"image must be a numpy array\"\n",
    "\n",
    "\tassert len(gray_image.shape) == 2, \"image must be grayscale\"\n",
    "\tassert gray_image.dtype == np.uint8, \"image array must be dtype np.uint8\"\n",
    "\n",
    "\tthreshold_image = cv2.adaptiveThreshold(gray_image, 255, cv2.ADAPTIVE_THRESH_MEAN_C, cv2.THRESH_BINARY, block_size, C)\n",
    "\n",
    "\treturn threshold_image\n",
    "\n",
    "def get_contours(threshold_image):\n",
    "\n",
    "\t\"\"\" Returns a list of contours from a binarized thresholded image.\n",
    "\n",
    "\t\tParameters\n",
    "\t\t----------\n",
    "\t\tthreshold_image : (MxNx1) numpy array\n",
    "\t\t\tBinarized threshold image as a numpy array\n",
    "\n",
    "\t\tReturns\n",
    "\t\t-------\n",
    "\t\tcontours : list\n",
    "\t\t\tList of contours extracted from threshold_image.\n",
    "\n",
    "\t\"\"\"\n",
    "\tassert len(set([0, 255]) - set(np.unique(threshold_image))) == 0, \"image must be binarized to (0, 255)\"\n",
    "\n",
    "\t_, contours, _ = cv2.findContours(threshold_image.copy(), cv2.RETR_TREE, cv2.CHAIN_APPROX_SIMPLE)\n",
    "\n",
    "\treturn contours\n"
   ]
  },
  {
   "cell_type": "code",
   "execution_count": 34,
   "metadata": {
    "collapsed": false,
    "scrolled": true
   },
   "outputs": [],
   "source": [
    "cv2.setNumThreads(0)\n",
    "#pt1 = (1200,800)\n",
    "#pt2 = (1700,1300)\n",
    "#cap = cv2.VideoCapture(\"/Users/Jake/Google Drive/test.mov\") \n",
    "#pt1 = (0,0)\n",
    "#pt2 = (1080,1500)\n",
    "#cap = cv2.VideoCapture(\"/Users/Jake/Google Drive/VID_20160719_103625.mp4\") \n",
    "#cap = cv2.VideoCapture(\"/Users/Jake/Downloads/VID_20160722_115829.mp4\") \n",
    "#cap = cv2.VideoCapture(\"/Users/Jake/Downloads/wetransfer-e18590/1471026246.44_fs_to_ffmpeg_nvenc-slow-gray.mp4\") \n",
    "#cap = cv2.VideoCapture(\"/Users/Jake/Google Drive/20160823_170206.nvenc-ll-gray.mp4\") \n",
    "#cap = cv2.VideoCapture(\"/Users/Jake/Google Drive/20160823_170206.nvenc-slow-yuv420-lq-gray.mp4\") \n",
    "cap = cv2.VideoCapture(\"/Users/Jake/Google Drive/20160824_173801.nvenc-slow-yuv420-gray.mp4\") \n",
    "\n",
    "cap.set(cv2.CAP_PROP_POS_FRAMES,0)\n",
    "\n",
    "#cap = cv2.VideoCapture(\"/Users/Jake/Downloads/GP050016.MP4\") \n",
    "\n",
    "#cap = cv2.VideoCapture(\"/Users/Jake/Downloads/1471025336.83_fs_to_ffmpeg_nvenc-slow-gray.mp4\") \n",
    "\n",
    "#cap = cv2.VideoCapture(finch_videos[1]) \n",
    "#cap = cv2.VideoCapture(\"/Users/Jake/Downloads/ZFichTests/GOPR0676.MP4\")\n",
    "\n",
    "#cap = cv2.VideoCapture(\"/Users/Jake/Google Drive/CLIP0000075_000.mov\")\n",
    "#pt1 = (1000,0)\n",
    "#pt2 = (3160,2160)\n",
    "\n",
    "n_frames = 0\n",
    "\n",
    "best_values = []\n",
    "area_list = []\n",
    "peri_list = []\n",
    "periratio_list = []\n",
    "periarea_list = []\n",
    "ID_list = []\n",
    "#approx_list = []\n",
    "matched_list = []\n",
    "# Define the codec and create VideoWriter object\n",
    "fourcc = cv2.VideoWriter_fourcc('A','V','C','1')\n",
    "#out = cv2.VideoWriter('output.mp4',fourcc, 15.0, (1960, 1080), True)\n",
    "out = cv2.VideoWriter('output.mp4',fourcc, 90.0, (2160, 2160), True)\n",
    "\n",
    "out.set(cv2.VIDEOWRITER_PROP_QUALITY, 100)\n",
    "t0 = dt.datetime.now()\n",
    "cv2.namedWindow(\"Video\")\n",
    "cv2.namedWindow(\"thresh\")\n",
    "font = cv2.FONT_HERSHEY_SIMPLEX\n",
    "\n",
    "flat_len = barcode_size[0]*barcode_size[1]   \n",
    "\n",
    "maxSide = 100\n",
    "length = maxSide - 1\n",
    "\n",
    "dst = np.array([\n",
    "            [0, 0],\n",
    "            [length, 0],\n",
    "            [length, length],\n",
    "            [0, length]], dtype = \"float32\")\n",
    "\n",
    "while cap.isOpened():  \n",
    "    \n",
    "    ret, image = cap.read()\n",
    "    \n",
    "    if ret:\n",
    "        n_tags = 0\n",
    "        pixel_values = []\n",
    "        warped_list = []\n",
    "        \n",
    "        #image = crop(image, pt1, pt2)\n",
    "        #cropped = cv2.resize(cropped, (0,0), None, fx = 0.33, fy = 0.33, interpolation = cv2.INTER_LINEAR)\n",
    "\n",
    "        #image = cv2.resize(image, (0,0), None, fx = 2, fy = 2, interpolation = cv2.INTER_AREA)\n",
    "        \n",
    "\n",
    "        display_img = image.copy()\n",
    "\n",
    "        #_, gray, _ = cv2.split(image)\n",
    "        gray = get_grayscale(image, channel = 'green')\n",
    "        #gray = cv2.GaussianBlur(gray, (1,1), 1)\n",
    "        #thresh = cv2.adaptiveThreshold(gray, 255, cv2.ADAPTIVE_THRESH_MEAN_C, cv2.THRESH_BINARY, 1001, 0)\n",
    "        thresh = get_threshold(gray, block_size = 21, C = 7)\n",
    "        #ret, thresh = cv2.threshold(gray, 150, 255, cv2.THRESH_BINARY)\n",
    "        #contour_image, contours, hierarchy = cv2.findContours(thresh.copy(), cv2.RETR_TREE, cv2.CHAIN_APPROX_SIMPLE)\n",
    "        contours = get_contours(thresh)\n",
    "        #cv2.drawContours(display_img, contours, -1, (0,0,255), 3)\n",
    "        edge_thresh = 1\n",
    "        image_shape = image.shape\n",
    "        maxx_thresh = image_shape[1] - edge_thresh\n",
    "        maxy_thresh = image_shape[0] - edge_thresh\n",
    "        \n",
    "        for cnt in contours:\n",
    "            \n",
    "            cnt_shape = cnt.shape\n",
    "\n",
    "            if cnt_shape[0] >= 4:\n",
    "                \n",
    "                area = cv2.contourArea(cnt, True)\n",
    "\n",
    "                if -10 > area > -800:\n",
    "                    \n",
    "                    cnt_reshape = cnt.reshape((cnt_shape[0], cnt_shape[2]))\n",
    "                    cnt_x = cnt_reshape[:,0]\n",
    "                    cnt_y = cnt_reshape[:,1]\n",
    "                    flat = cnt.flatten()\n",
    "                    edge_zero = np.sum(flat <= edge_thresh)\n",
    "                    edge_maxx = np.sum(cnt_x >= maxx_thresh)\n",
    "                    edge_maxy = np.sum(cnt_y >= maxy_thresh)\n",
    "\n",
    "                    if edge_zero == 0 and edge_maxx == 0 and edge_maxy == 0:\n",
    "                        \n",
    "                        peri_cnt = cv2.arcLength(cnt, True)\n",
    "\n",
    "                        approx = cv2.approxPolyDP(cnt, 0.05 * peri_cnt, True)\n",
    "                    \n",
    "                        #cv2.drawContours(display_img, [approx], -1, (127,0,255), 3)\n",
    "\n",
    "                        poly_area = cv2.contourArea(approx, True)\n",
    "\n",
    "                        if len(approx) == 4 and -10 > poly_area > -800 and cv2.isContourConvex(approx) and 0 < peri_cnt < 150:\n",
    "                            peri_approx = cv2.arcLength(approx, True)\n",
    "\n",
    "                            peri_ratio = peri_cnt/peri_approx\n",
    "                            periarea = peri_cnt/area\n",
    "                            \n",
    "                            #cv2.drawContours(display_img, [cnt], -1, (0,0,255), 2)\n",
    "                            \n",
    "                            if -0.5 < periarea <= 0:\n",
    "                            \n",
    "                                cv2.drawContours(display_img, [cnt], -1, (0,255,255), 1)\n",
    "\n",
    "                                peri_approx = cv2.arcLength(approx, True)\n",
    "\n",
    "                                cnt_shape = approx.shape\n",
    "                                pts = approx.reshape((cnt_shape[0], cnt_shape[-1]))\n",
    "\n",
    "                                pts = order_points(pts)\n",
    "                                (tl, tr, br, bl) = pts\n",
    "                                \n",
    "                                \n",
    "                                #top = distance(tr - tl)\n",
    "                                #right = distance(br - tr)\n",
    "                                #bottom = distance(bl - br)\n",
    "                                #left = distance(tl - bl)\n",
    "                                                                \n",
    "                                # compute the perspective transform matrix and then apply it\n",
    "                                M = cv2.getPerspectiveTransform(pts, dst)\n",
    "                                warped = cv2.warpPerspective(gray, M, (maxSide, maxSide), borderValue = 255 )\n",
    "                                #warped = ( warped - warped.mean() ) / warped.std()\n",
    "                                warped_list.append(warped)\n",
    "                                resize_warp = cv2.resize(warped, barcode_size, interpolation = cv2.INTER_AREA)\n",
    "                                #resize_warp = ( resize_warp - resize_warp.mean() ) / resize_warp.std()\n",
    "\n",
    "                                pixel_values.append(resize_warp)\n",
    "\n",
    "                                correlation = corr2_coeff(barcodes, resize_warp.reshape((1,flat_len)))\n",
    "                                best_value = np.max(correlation)\n",
    "\n",
    "                                best_values.append(best_value)\n",
    "                                area_list.append(area)\n",
    "                                peri_list.append(peri_cnt)\n",
    "                                periratio_list.append(peri_ratio)\n",
    "                                periarea_list.append(peri_cnt/area)\n",
    "                                \n",
    "                                if best_value > 0.65:\n",
    "                                    \n",
    "                                    \n",
    "                                    #best_values.append(best_value)\n",
    "                                    #area_list.append(area)\n",
    "                                    best_index = np.argmax(correlation)\n",
    "\n",
    "                                    ID = IDs[best_index]\n",
    "                                    ID_list.append(ID)\n",
    "                                    centroid = pts.mean(0)\n",
    "                                    y_offset = 0\n",
    "                                    x_offset = 0\n",
    "                                    bottom_centroid = tuple((centroid + np.array([x_offset,-1*y_offset])).astype(int))\n",
    "                                    top_centroid = tuple((centroid + np.array([x_offset,y_offset])).astype(int))\n",
    "                                    mid_centroid = tuple((centroid + np.array([x_offset,0])).astype(int))\n",
    "                                    centroid = tuple(centroid)\n",
    "\n",
    "                                    rotate_test = best_index % 4\n",
    "\n",
    "                                    if rotate_test == 3:\n",
    "                                        edge = tuple(np.mean([tl, tr], axis = 0))\n",
    "                                    if rotate_test == 0:\n",
    "                                        edge = tuple(np.mean([tl, bl], axis = 0))\n",
    "                                    if rotate_test == 1:\n",
    "                                        edge = tuple(np.mean([br, bl], axis = 0))\n",
    "                                    if rotate_test == 2:\n",
    "                                        edge = tuple(np.mean([br, tr], axis = 0))\n",
    "                                    cv2.drawContours(display_img, [approx], -1, (0,255,0), 1)\n",
    "\n",
    "                                    #cv2.circle(display_img,tuple(pts[0]), rad, (255,0,0), -1)\n",
    "                                    #cv2.circle(display_img,tuple(pts[1]), rad, (0,255,0), -1)\n",
    "                                    #cv2.circle(display_img,tuple(pts[2]), rad, (0,0,255), -1)\n",
    "                                    #cv2.circle(display_img,tuple(pts[3]), rad, (255,0,255), -1)\n",
    "\n",
    "                                    #cv2.circle(display_img,centroid, rad, (0,255,0), -1)\n",
    "\n",
    "                                    vector = np.subtract(edge, centroid)\n",
    "                                    vector_angle = angle(vector, [1,0])\n",
    "\n",
    "                                    angle_str = '%.0f' % vector_angle\n",
    "                                    bestval_str = '%.2f' % best_value\n",
    "                                    \n",
    "                                    cv2.arrowedLine(display_img, centroid, edge, (0,0,255), 1, tipLength = 0.5)\n",
    "\n",
    "                                    font_scale = 1.5\n",
    "                                    outline_font = 5\n",
    "                                    inline_font = 2\n",
    "\n",
    "\n",
    "                                    cv2.putText(display_img,str(ID),mid_centroid, font, font_scale,(0,0,0),outline_font,cv2.LINE_AA)\n",
    "                                    cv2.putText(display_img,str(ID),mid_centroid, font, font_scale,(255,255,255),inline_font,cv2.LINE_AA)\n",
    "\n",
    "                                    #cv2.putText(display_img,\"ID: \" + str(ID),top_centroid, font, font_scale,(0,0,0),outline_font,cv2.LINE_AA)\n",
    "                                    #cv2.putText(display_img,\"ID: \" + str(ID),top_centroid, font, font_scale,(255,255,255),inline_font,cv2.LINE_AA)\n",
    "\n",
    "                                    #cv2.putText(display_img,\"O: \" + angle_str, mid_centroid, font, font_scale, (0,0,0),outline_font,cv2.LINE_AA)\n",
    "                                    #cv2.putText(display_img,\"O: \" + angle_str, mid_centroid, font, font_scale, (255,255,255),inline_font,cv2.LINE_AA)\n",
    "\n",
    "                                    #cv2.putText(display_img,\"C: \" + bestval_str, bottom_centroid, font, font_scale, (0,0,0),outline_font,cv2.LINE_AA)\n",
    "                                    #cv2.putText(display_img,\"C: \" + bestval_str, bottom_centroid, font, font_scale, (255,255,255),inline_font,cv2.LINE_AA)\n",
    "\n",
    "                                    n_tags += 1\n",
    "\n",
    "        pixel_values = np.array(pixel_values)\n",
    "\n",
    "        cv2.putText(display_img,\"Number of Barcodes: \" + str(n_tags),(30,50), font, 1,(0,0,0),15,cv2.LINE_AA)\n",
    "        cv2.putText(display_img,\"Number of Barcodes: \" + str(n_tags),(30,50), font, 1,(255,255,255),3,cv2.LINE_AA)\n",
    "        \n",
    "        #display_img = cv2.resize(display_img, (1960,1080), None)\n",
    "\n",
    "        #display_img = cv2.resize(display_img, (1440,810), None)\n",
    "        display_img = cv2.resize(display_img, (2160,2160), None)\n",
    "\n",
    "        #display_img = cv2.resize(display_img, (0,0), None, fx = 0.3, fy = 0.3)\n",
    "        #thresh = cv2.resize(thresh, (0,0), None, fx = 0.3, fy = 0.3)\n",
    "\n",
    "        thresh = cv2.resize(thresh, (2160,2160), None)\n",
    "\n",
    "        #thresh = cv2.resize(thresh, (1440,810), None)\n",
    "        #thresh = cv2.resize(thresh, (1960,1080), None)\n",
    "\n",
    "        #thresh = cv2.cvtColor(thresh, cv2.COLOR_GRAY2BGR)\n",
    "        #display_img[-1000:,:] = thresh[:1000,:]\n",
    "\n",
    "        out.write(display_img)\n",
    "        \n",
    "        #display_img = cv2.resize(display_img, (0,0), None, fx = 0.5, fy = 0.5, )\n",
    "\n",
    "        cv2.imshow('Video', display_img)\n",
    "        #cv2.imshow('gray', gray)\n",
    "        cv2.imshow(\"thresh\", thresh)\n",
    "        n_frames += 1\n",
    "    elif cap.get(cv2.CAP_PROP_POS_FRAMES) == cap.get(cv2.CAP_PROP_FRAME_COUNT):\n",
    "        break\n",
    "    if cv2.waitKey(1) & 0xFF == 27:\n",
    "        break\n",
    "        \n",
    "cap.release()\n",
    "out.release()\n",
    "cv2.destroyAllWindows()\n",
    "\n",
    "for i in range(5):\n",
    "    cv2.waitKey(1)\n",
    "    \n",
    "t1 = dt.datetime.now()\n",
    "\n",
    "dtime = t1 - t0\n",
    "dtime = dtime.total_seconds()\n",
    "fps = n_frames/dtime"
   ]
  },
  {
   "cell_type": "code",
   "execution_count": 10,
   "metadata": {
    "collapsed": false
   },
   "outputs": [
    {
     "data": {
      "text/plain": [
       "(4, 1, 2)"
      ]
     },
     "execution_count": 10,
     "metadata": {},
     "output_type": "execute_result"
    }
   ],
   "source": [
    "cnt.shape"
   ]
  },
  {
   "cell_type": "code",
   "execution_count": 99,
   "metadata": {
    "collapsed": false
   },
   "outputs": [
    {
     "name": "stdout",
     "output_type": "stream",
     "text": [
      "1999.0\n"
     ]
    }
   ],
   "source": [
    "cap = cv2.VideoCapture(\"/Users/Jake/Downloads/wetransfer-e18590/1471026246.44_fs_to_ffmpeg_nvenc-slow-gray.mp4\") \n",
    "print cap.get(cv2.CAP_PROP_FRAME_COUNT)\n",
    "cap.release()"
   ]
  },
  {
   "cell_type": "code",
   "execution_count": 100,
   "metadata": {
    "collapsed": false
   },
   "outputs": [
    {
     "name": "stdout",
     "output_type": "stream",
     "text": [
      "Frames per second:  3.70152712408\n",
      "Seconds processing per second of video (30 fps):  8.10476297872\n"
     ]
    }
   ],
   "source": [
    "print \"Frames per second: \", fps\n",
    "print \"Seconds processing per second of video (30 fps): \", dtime/(n_frames/30.)"
   ]
  },
  {
   "cell_type": "code",
   "execution_count": 180,
   "metadata": {
    "collapsed": true
   },
   "outputs": [],
   "source": [
    "rw_mean = resize_warp.mean()\n",
    "resize_warp[resize_warp >= rw_mean] = 255\n",
    "resize_warp[resize_warp < rw_mean] = 0"
   ]
  },
  {
   "cell_type": "code",
   "execution_count": 1,
   "metadata": {
    "collapsed": false,
    "scrolled": false
   },
   "outputs": [
    {
     "ename": "NameError",
     "evalue": "name 'best_value' is not defined",
     "output_type": "error",
     "traceback": [
      "\u001b[0;31m---------------------------------------------------------------------------\u001b[0m",
      "\u001b[0;31mNameError\u001b[0m                                 Traceback (most recent call last)",
      "\u001b[0;32m<ipython-input-1-62e15ff1f69d>\u001b[0m in \u001b[0;36m<module>\u001b[0;34m()\u001b[0m\n\u001b[0;32m----> 1\u001b[0;31m \u001b[0;32mprint\u001b[0m \u001b[0mbest_value\u001b[0m\u001b[0;34m\u001b[0m\u001b[0m\n\u001b[0m\u001b[1;32m      2\u001b[0m \u001b[0mplt\u001b[0m\u001b[0;34m.\u001b[0m\u001b[0mimshow\u001b[0m\u001b[0;34m(\u001b[0m\u001b[0mwarped\u001b[0m\u001b[0;34m,\u001b[0m \u001b[0mcmap\u001b[0m \u001b[0;34m=\u001b[0m \u001b[0;34m'gray'\u001b[0m\u001b[0;34m,\u001b[0m \u001b[0minterpolation\u001b[0m \u001b[0;34m=\u001b[0m \u001b[0;34m'none'\u001b[0m\u001b[0;34m)\u001b[0m\u001b[0;34m\u001b[0m\u001b[0m\n\u001b[1;32m      3\u001b[0m \u001b[0mplt\u001b[0m\u001b[0;34m.\u001b[0m\u001b[0mshow\u001b[0m\u001b[0;34m(\u001b[0m\u001b[0;34m)\u001b[0m\u001b[0;34m\u001b[0m\u001b[0m\n\u001b[1;32m      4\u001b[0m \u001b[0mplt\u001b[0m\u001b[0;34m.\u001b[0m\u001b[0mimshow\u001b[0m\u001b[0;34m(\u001b[0m\u001b[0mresize_warp\u001b[0m\u001b[0;34m,\u001b[0m \u001b[0mcmap\u001b[0m \u001b[0;34m=\u001b[0m \u001b[0;34m'gray'\u001b[0m\u001b[0;34m,\u001b[0m \u001b[0minterpolation\u001b[0m \u001b[0;34m=\u001b[0m \u001b[0;34m'none'\u001b[0m\u001b[0;34m)\u001b[0m\u001b[0;34m\u001b[0m\u001b[0m\n\u001b[1;32m      5\u001b[0m \u001b[0mplt\u001b[0m\u001b[0;34m.\u001b[0m\u001b[0mshow\u001b[0m\u001b[0;34m(\u001b[0m\u001b[0;34m)\u001b[0m\u001b[0;34m\u001b[0m\u001b[0m\n",
      "\u001b[0;31mNameError\u001b[0m: name 'best_value' is not defined"
     ]
    }
   ],
   "source": [
    "print best_value\n",
    "plt.imshow(warped, cmap = 'gray', interpolation = 'none')\n",
    "plt.show()\n",
    "plt.imshow(resize_warp, cmap = 'gray', interpolation = 'none')\n",
    "plt.show()\n",
    "plt.imshow(barcodes[best_index].reshape(barcode_size), cmap = 'gray', interpolation = 'none')\n",
    "plt.show()"
   ]
  },
  {
   "cell_type": "code",
   "execution_count": 182,
   "metadata": {
    "collapsed": false
   },
   "outputs": [
    {
     "data": {
      "image/png": "[encoded data removed]",
      "text/plain": [
       "<matplotlib.figure.Figure at 0x10e364f90>"
      ]
     },
     "metadata": {},
     "output_type": "display_data"
    }
   ],
   "source": [
    "plt.figure(figsize = (20,10))\n",
    "#plt.plot(np.arange(len(best_values)), best_values, 'k,', alpha = 0.5)\n",
    "plt.plot(peri_list, best_values, 'k.', alpha = 0.5)\n",
    "\n",
    "#plt.ylim(0.5,1)\n",
    "plt.show()"
   ]
  },
  {
   "cell_type": "code",
   "execution_count": 183,
   "metadata": {
    "collapsed": false
   },
   "outputs": [
    {
     "data": {
      "image/png": "[encoded data removed]",
      "text/plain": [
       "<matplotlib.figure.Figure at 0x10e4f4590>"
      ]
     },
     "metadata": {},
     "output_type": "display_data"
    }
   ],
   "source": [
    "plt.figure(figsize = (20,10))\n",
    "#plt.plot(np.arange(len(best_values)), best_values, 'k,', alpha = 0.5)\n",
    "plt.plot(periarea_list, best_values, 'k.', alpha = 0.5)\n",
    "\n",
    "plt.ylim(0,1)\n",
    "#plt.xlim(-0.2, 0)\n",
    "plt.show()"
   ]
  },
  {
   "cell_type": "code",
   "execution_count": 45,
   "metadata": {
    "collapsed": false
   },
   "outputs": [
    {
     "data": {
      "text/plain": [
       "3"
      ]
     },
     "execution_count": 45,
     "metadata": {},
     "output_type": "execute_result"
    }
   ],
   "source": [
    "cv2.VIDEOWRITER_PROP_NSTRIPES"
   ]
  },
  {
   "cell_type": "code",
   "execution_count": 49,
   "metadata": {
    "collapsed": false
   },
   "outputs": [
    {
     "data": {
      "text/plain": [
       "array([[ -1.38945470e+00,   5.76115362e-01,   2.93042773e+03],\n",
       "       [ -4.80805312e-01,  -1.47675917e+00,   4.83391358e+03],\n",
       "       [ -3.88761451e-04,  -5.20939322e-04,   1.00000000e+00]])"
      ]
     },
     "execution_count": 49,
     "metadata": {},
     "output_type": "execute_result"
    }
   ],
   "source": [
    "test_M"
   ]
  },
  {
   "cell_type": "code",
   "execution_count": 50,
   "metadata": {
    "collapsed": true
   },
   "outputs": [],
   "source": [
    "import math"
   ]
  },
  {
   "cell_type": "code",
   "execution_count": 59,
   "metadata": {
    "collapsed": true
   },
   "outputs": [],
   "source": [
    "def isRotationMatrix(R) :\n",
    "    Rt = np.transpose(R)\n",
    "    shouldBeIdentity = np.dot(Rt, R)\n",
    "    I = np.identity(3, dtype = R.dtype)\n",
    "    n = np.linalg.norm(I - shouldBeIdentity)\n",
    "    return n < 1e-1\n",
    " \n",
    " \n",
    "# Calculates rotation matrix to euler angles\n",
    "# The result is the same as MATLAB except the order\n",
    "# of the euler angles ( x and z are swapped ).\n",
    "def rotationMatrixToEulerAngles(R) :\n",
    " \n",
    "    #assert(isRotationMatrix(R))\n",
    "     \n",
    "    sy = math.sqrt(R[0,0] * R[0,0] +  R[1,0] * R[1,0])\n",
    "     \n",
    "    singular = sy < 1e-6\n",
    " \n",
    "    if  not singular :\n",
    "        x = math.atan2(R[2,1] , R[2,2])\n",
    "        y = math.atan2(-R[2,0], sy)\n",
    "        z = math.atan2(R[1,0], R[0,0])\n",
    "    else :\n",
    "        x = math.atan2(-R[1,2], R[1,1])\n",
    "        y = math.atan2(-R[2,0], sy)\n",
    "        z = 0\n",
    " \n",
    "    return np.array([x, y, z])"
   ]
  },
  {
   "cell_type": "code",
   "execution_count": 60,
   "metadata": {
    "collapsed": false,
    "scrolled": true
   },
   "outputs": [
    {
     "name": "stdout",
     "output_type": "stream",
     "text": [
      "[ -5.20939275e-04   2.64411071e-04  -2.80845104e+00]\n"
     ]
    }
   ],
   "source": [
    "print rotationMatrixToEulerAngles(test_M)"
   ]
  },
  {
   "cell_type": "code",
   "execution_count": 55,
   "metadata": {
    "collapsed": false
   },
   "outputs": [
    {
     "data": {
      "text/plain": [
       "162.15979856720608"
      ]
     },
     "execution_count": 55,
     "metadata": {},
     "output_type": "execute_result"
    }
   ],
   "source": [
    "test_angle"
   ]
  },
  {
   "cell_type": "code",
   "execution_count": 12,
   "metadata": {
    "collapsed": false
   },
   "outputs": [
    {
     "data": {
      "text/plain": [
       "array([29, 30, 34, 35, 38, 43, 47, 50, 51, 54, 55, 58, 59])"
      ]
     },
     "execution_count": 12,
     "metadata": {},
     "output_type": "execute_result"
    }
   ],
   "source": [
    "np.unique(ID_list)"
   ]
  },
  {
   "cell_type": "code",
   "execution_count": 45,
   "metadata": {
    "collapsed": false
   },
   "outputs": [],
   "source": [
    "tag1 = np.array([2]*15 + [1]*10).astype(np.float64)\n",
    "tag2 = np.array([2]*20 + [1]*5).astype(np.float64)"
   ]
  },
  {
   "cell_type": "code",
   "execution_count": 46,
   "metadata": {
    "collapsed": false
   },
   "outputs": [
    {
     "data": {
      "text/plain": [
       "array([ 2.,  2.,  2.,  2.,  2.,  2.,  2.,  2.,  2.,  2.,  2.,  2.,  2.,\n",
       "        2.,  2.,  1.,  1.,  1.,  1.,  1.,  1.,  1.,  1.,  1.,  1.])"
      ]
     },
     "execution_count": 46,
     "metadata": {},
     "output_type": "execute_result"
    }
   ],
   "source": [
    "tag1"
   ]
  },
  {
   "cell_type": "code",
   "execution_count": 47,
   "metadata": {
    "collapsed": false
   },
   "outputs": [
    {
     "data": {
      "text/plain": [
       "array([ 2.,  2.,  2.,  2.,  2.,  2.,  2.,  2.,  2.,  2.,  2.,  2.,  2.,\n",
       "        2.,  2.,  2.,  2.,  2.,  2.,  2.,  1.,  1.,  1.,  1.,  1.])"
      ]
     },
     "execution_count": 47,
     "metadata": {},
     "output_type": "execute_result"
    }
   ],
   "source": [
    "tag2"
   ]
  },
  {
   "cell_type": "code",
   "execution_count": 48,
   "metadata": {
    "collapsed": true
   },
   "outputs": [],
   "source": [
    "import scipy.stats as sps"
   ]
  },
  {
   "cell_type": "code",
   "execution_count": 49,
   "metadata": {
    "collapsed": false
   },
   "outputs": [
    {
     "data": {
      "text/plain": [
       "(0.61237243569579458, 0.0011389435144915914)"
      ]
     },
     "execution_count": 49,
     "metadata": {},
     "output_type": "execute_result"
    }
   ],
   "source": [
    "sps.pearsonr(tag1, tag2)"
   ]
  },
  {
   "cell_type": "code",
   "execution_count": 89,
   "metadata": {
    "collapsed": true
   },
   "outputs": [],
   "source": [
    "import pinpoint"
   ]
  },
  {
   "cell_type": "code",
   "execution_count": 90,
   "metadata": {
    "collapsed": false
   },
   "outputs": [
    {
     "data": {
      "text/plain": [
       "'0.0.1'"
      ]
     },
     "execution_count": 90,
     "metadata": {},
     "output_type": "execute_result"
    }
   ],
   "source": [
    "pinpoint.__version__"
   ]
  },
  {
   "cell_type": "code",
   "execution_count": 91,
   "metadata": {
    "collapsed": false
   },
   "outputs": [
    {
     "ename": "AttributeError",
     "evalue": "'module' object has no attribute '__doi__'",
     "output_type": "error",
     "traceback": [
      "\u001b[0;31m---------------------------------------------------------------------------\u001b[0m",
      "\u001b[0;31mAttributeError\u001b[0m                            Traceback (most recent call last)",
      "\u001b[0;32m<ipython-input-91-b72cc8eaccd9>\u001b[0m in \u001b[0;36m<module>\u001b[0;34m()\u001b[0m\n\u001b[0;32m----> 1\u001b[0;31m \u001b[0mpinpoint\u001b[0m\u001b[0;34m.\u001b[0m\u001b[0m__doi__\u001b[0m\u001b[0;34m\u001b[0m\u001b[0m\n\u001b[0m",
      "\u001b[0;31mAttributeError\u001b[0m: 'module' object has no attribute '__doi__'"
     ]
    }
   ],
   "source": [
    "pinpoint.__doi__"
   ]
  },
  {
   "cell_type": "code",
   "execution_count": 97,
   "metadata": {
    "collapsed": false
   },
   "outputs": [
    {
     "data": {
      "text/plain": [
       "1"
      ]
     },
     "execution_count": 97,
     "metadata": {},
     "output_type": "execute_result"
    }
   ],
   "source": [
    "len(set([0,255,1]) - set([255,0]))"
   ]
  },
  {
   "cell_type": "code",
   "execution_count": 99,
   "metadata": {
    "collapsed": false
   },
   "outputs": [
    {
     "data": {
      "text/plain": [
       "{0, 255}"
      ]
     },
     "execution_count": 99,
     "metadata": {},
     "output_type": "execute_result"
    }
   ],
   "source": [
    "set(np.unique([0,255]))"
   ]
  },
  {
   "cell_type": "code",
   "execution_count": 75,
   "metadata": {
    "collapsed": false
   },
   "outputs": [
    {
     "data": {
      "text/plain": [
       "<matplotlib.image.AxesImage at 0x10d1de410>"
      ]
     },
     "execution_count": 75,
     "metadata": {},
     "output_type": "execute_result"
    },
    {
     "data": {
      "image/png": "[encoded data removed]",
      "text/plain": [
       "<matplotlib.figure.Figure at 0x10d1bce90>"
      ]
     },
     "metadata": {},
     "output_type": "display_data"
    }
   ],
   "source": [
    "plt.imshow(warped, cmap='gray', interpolation = 'none')"
   ]
  },
  {
   "cell_type": "code",
   "execution_count": 43,
   "metadata": {
    "collapsed": false
   },
   "outputs": [
    {
     "data": {
      "text/plain": [
       "9.2195444"
      ]
     },
     "execution_count": 43,
     "metadata": {},
     "output_type": "execute_result"
    }
   ],
   "source": [
    "distance(pts[0] - pts[1])"
   ]
  },
  {
   "cell_type": "code",
   "execution_count": 46,
   "metadata": {
    "collapsed": false
   },
   "outputs": [
    {
     "data": {
      "text/plain": [
       "9.2195444"
      ]
     },
     "execution_count": 46,
     "metadata": {},
     "output_type": "execute_result"
    }
   ],
   "source": [
    "top"
   ]
  },
  {
   "cell_type": "code",
   "execution_count": 47,
   "metadata": {
    "collapsed": false
   },
   "outputs": [
    {
     "data": {
      "text/plain": [
       "9.4868326"
      ]
     },
     "execution_count": 47,
     "metadata": {},
     "output_type": "execute_result"
    }
   ],
   "source": [
    "right"
   ]
  },
  {
   "cell_type": "code",
   "execution_count": 48,
   "metadata": {
    "collapsed": false
   },
   "outputs": [
    {
     "data": {
      "text/plain": [
       "8.2462111"
      ]
     },
     "execution_count": 48,
     "metadata": {},
     "output_type": "execute_result"
    }
   ],
   "source": [
    "bottom"
   ]
  },
  {
   "cell_type": "code",
   "execution_count": 49,
   "metadata": {
    "collapsed": false
   },
   "outputs": [
    {
     "data": {
      "text/plain": [
       "9.2195444"
      ]
     },
     "execution_count": 49,
     "metadata": {},
     "output_type": "execute_result"
    }
   ],
   "source": [
    "left"
   ]
  },
  {
   "cell_type": "code",
   "execution_count": null,
   "metadata": {
    "collapsed": true
   },
   "outputs": [],
   "source": []
  }
 ],
 "metadata": {
  "kernelspec": {
   "display_name": "Python 2",
   "language": "python",
   "name": "python2"
  },
  "language_info": {
   "codemirror_mode": {
    "name": "ipython",
    "version": 2
   },
   "file_extension": ".py",
   "mimetype": "text/x-python",
   "name": "python",
   "nbconvert_exporter": "python",
   "pygments_lexer": "ipython2",
   "version": "2.7.12"
  }
 },
 "nbformat": 4,
 "nbformat_minor": 0
}
