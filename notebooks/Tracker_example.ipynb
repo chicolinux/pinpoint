{
 "cells": [
  {
   "cell_type": "code",
   "execution_count": null,
   "metadata": {
    "collapsed": true
   },
   "outputs": [],
   "source": [
    "from pinpoint import Tracker, VideoReader\n",
    "import matplotlib.pyplot as plt\n",
    "import time\n",
    "import h5py\n",
    "import glob\n",
    "import numpy as np\n",
    "import cv2"
   ]
  },
  {
   "cell_type": "code",
   "execution_count": null,
   "metadata": {},
   "outputs": [],
   "source": [
    "videos = glob.glob(\"/media/jake/*.mp4\")\n",
    "videos"
   ]
  },
  {
   "cell_type": "code",
   "execution_count": null,
   "metadata": {
    "collapsed": true
   },
   "outputs": [],
   "source": [
    "video = VideoReader(videos[0])"
   ]
  },
  {
   "cell_type": "code",
   "execution_count": null,
   "metadata": {
    "collapsed": true
   },
   "outputs": [],
   "source": [
    "frame = video.read()"
   ]
  },
  {
   "cell_type": "code",
   "execution_count": null,
   "metadata": {},
   "outputs": [],
   "source": [
    "plt.figure(figsize=(10,10))\n",
    "plt.imshow(frame)\n",
    "plt.show()"
   ]
  },
  {
   "cell_type": "code",
   "execution_count": null,
   "metadata": {
    "collapsed": true
   },
   "outputs": [],
   "source": [
    "from pinpoint.utils import grayscale, adaptive_threshold, find_contours, find_candidate_barcodes, fit_polygon"
   ]
  },
  {
   "cell_type": "code",
   "execution_count": null,
   "metadata": {
    "scrolled": false
   },
   "outputs": [],
   "source": [
    "# modify these parameters to adjust the threshold\n",
    "block_size = 1001\n",
    "offset = -20\n",
    "resize = 3\n",
    "\n",
    "resized = cv2.resize(frame, (0,0), None, fx = resize, fy = resize)\n",
    "gray = grayscale(resized, 'green')\n",
    "thresh = adaptive_threshold(gray, block_size, offset)\n",
    "\n",
    "plt.figure(figsize=(50,50))\n",
    "plt.imshow(gray, cmap='gray')\n",
    "plt.show()\n",
    "\n",
    "plt.figure(figsize=(50,50))\n",
    "plt.imshow(thresh, cmap='gray')\n",
    "plt.show()"
   ]
  },
  {
   "cell_type": "code",
   "execution_count": null,
   "metadata": {
    "collapsed": true
   },
   "outputs": [],
   "source": [
    "contours = find_contours(thresh)\n",
    "areas = np.array(map(cv2.contourArea, contours))\n",
    "len(contours)\n",
    "\n",
    "plt.hist(np.sqrt(areas[areas>10]), bins=50)\n",
    "plt.xscale('log')\n",
    "plt.show()"
   ]
  },
  {
   "cell_type": "code",
   "execution_count": null,
   "metadata": {
    "collapsed": true
   },
   "outputs": [],
   "source": [
    "tracker = Tracker(source=videos[0],\n",
    "                  block_size=block_size,\n",
    "                  offset=offset,\n",
    "                  distance_threshold=20,\n",
    "                  area_range=(50,500),\n",
    "                  tolerance=0.1,\n",
    "                  channel='green',\n",
    "                  resize=resize)"
   ]
  },
  {
   "cell_type": "code",
   "execution_count": null,
   "metadata": {},
   "outputs": [],
   "source": [
    "# set your barcode dictionary\n",
    "tracker.load_dict('/home/jake/pinpoint/barcodes/5x5_7bit/master_list.pkl')"
   ]
  },
  {
   "cell_type": "code",
   "execution_count": null,
   "metadata": {
    "collapsed": true
   },
   "outputs": [],
   "source": [
    "t0 = time.time()\n",
    "tracker.track('output.h5',batch_size=200, n_jobs=-1)\n",
    "t1 = time.time()\n",
    "dt = t1-t0\n",
    "fps = tracker.total_frames/dt\n",
    "print(fps)"
   ]
  },
  {
   "cell_type": "code",
   "execution_count": null,
   "metadata": {},
   "outputs": [],
   "source": [
    "f = h5py.File('output.h5', 'r')\n",
    "\n",
    "frame_idx = f['data/frame_idx'].value\n",
    "corners = f['data/corners'].value\n",
    "identity = f['data/identity'].value\n",
    "distances = f['data/distances'].value\n",
    "\n",
    "fps = f.attrs['fps']\n",
    "codec = f.attrs['codec']\n",
    "height = f.attrs['height']\n",
    "width = f.attrs['width']\n",
    "total_frames = f.attrs['total_frames']\n",
    "\n",
    "f.close()"
   ]
  },
  {
   "cell_type": "code",
   "execution_count": null,
   "metadata": {},
   "outputs": [],
   "source": [
    "np.unique(identity[distances == 0])"
   ]
  },
  {
   "cell_type": "code",
   "execution_count": null,
   "metadata": {
    "scrolled": false
   },
   "outputs": [],
   "source": [
    "plt.hist(distances, bins=20)\n",
    "plt.show()"
   ]
  },
  {
   "cell_type": "code",
   "execution_count": null,
   "metadata": {
    "collapsed": true
   },
   "outputs": [],
   "source": []
  }
 ],
 "metadata": {
  "kernelspec": {
   "display_name": "Python 2",
   "language": "python",
   "name": "python2"
  },
  "language_info": {
   "codemirror_mode": {
    "name": "ipython",
    "version": 2
   },
   "file_extension": ".py",
   "mimetype": "text/x-python",
   "name": "python",
   "nbconvert_exporter": "python",
   "pygments_lexer": "ipython2",
   "version": "2.7.13"
  }
 },
 "nbformat": 4,
 "nbformat_minor": 2
}
