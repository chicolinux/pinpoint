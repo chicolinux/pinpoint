{
 "cells": [
  {
   "cell_type": "code",
   "execution_count": 1,
   "metadata": {
    "collapsed": true
   },
   "outputs": [],
   "source": [
    "from pinpoint import Tracker, VideoReader\n",
    "import matplotlib.pyplot as plt\n",
    "import time\n",
    "import h5py\n",
    "import glob\n",
    "import numpy as np"
   ]
  },
  {
   "cell_type": "code",
   "execution_count": 2,
   "metadata": {},
   "outputs": [
    {
     "data": {
      "text/plain": [
       "['/home/jake/fish_videos/kowa_1dot5k0_5stickle4x4l_20170615_125516.libx264-crf20-mf-yuv420-gray.mp4',\n",
       " '/home/jake/fish_videos/kowa_2k2_5stickle4x4l_20170615_125608.libx264-crf20-mf-yuv420-gray.mp4',\n",
       " '/home/jake/fish_videos/kowa_1dot5k2_5stickle4x4l_20170615_125449.libx264-crf20-mf-yuv420-gray.mp4',\n",
       " '/home/jake/fish_videos/kowa_2k0_5stickle4x4l_20170615_125636.libx264-crf20-mf-yuv420-gray.mp4']"
      ]
     },
     "execution_count": 2,
     "metadata": {},
     "output_type": "execute_result"
    }
   ],
   "source": [
    "videos = glob.glob(\"/home/jake/fish_videos/*.mp4\")\n",
    "videos"
   ]
  },
  {
   "cell_type": "code",
   "execution_count": 3,
   "metadata": {},
   "outputs": [],
   "source": [
    "tracker = Tracker(source=videos[0],\n",
    "                  block_size=51,\n",
    "                  offset=-5,\n",
    "                  distance_threshold=20,\n",
    "                  area_range=(50,1000),\n",
    "                  tolerance=0.1,\n",
    "                  channel='green',\n",
    "                  resize=2)"
   ]
  },
  {
   "cell_type": "code",
   "execution_count": 4,
   "metadata": {},
   "outputs": [
    {
     "data": {
      "text/plain": [
       "True"
      ]
     },
     "execution_count": 4,
     "metadata": {},
     "output_type": "execute_result"
    }
   ],
   "source": [
    "tracker.load_dict('/home/jake/pinpoint/barcodes/4x4_4bit/master_list.pkl')"
   ]
  },
  {
   "cell_type": "code",
   "execution_count": 5,
   "metadata": {},
   "outputs": [
    {
     "name": "stdout",
     "output_type": "stream",
     "text": [
      "6.61318045691\n"
     ]
    }
   ],
   "source": [
    "t0 = time.time()\n",
    "fetch_dict = tracker.track('output.h5',batch_size=200, n_jobs=-1)\n",
    "t1 = time.time()\n",
    "dt = t1-t0\n",
    "fps = tracker.total_frames()/dt\n",
    "print(fps)"
   ]
  },
  {
   "cell_type": "code",
   "execution_count": null,
   "metadata": {
    "scrolled": true
   },
   "outputs": [],
   "source": [
    "#set n_jobs to 1 to get gray and threshold images as output in fetch_dict\n",
    "fig, (ax1, ax2) = plt.subplots(nrows=2, ncols=1, squeeze=True, figsize=(50,100))\n",
    "ax1.imshow(fetch_dict[\"gray\"], cmap='gray', interpolation='none')\n",
    "ax2.imshow(fetch_dict[\"thresh\"], cmap='gray', interpolation='none')\n",
    "plt.show()"
   ]
  },
  {
   "cell_type": "code",
   "execution_count": 6,
   "metadata": {
    "collapsed": true
   },
   "outputs": [],
   "source": [
    "f = h5py.File('output.h5', 'r')"
   ]
  },
  {
   "cell_type": "code",
   "execution_count": 7,
   "metadata": {
    "collapsed": true
   },
   "outputs": [],
   "source": [
    "frame_idx = f['data/frame_idx'].value\n",
    "corners = f['data/corners'].value\n",
    "identity = f['data/identity'].value\n",
    "distances = f['data/distances'].value"
   ]
  },
  {
   "cell_type": "code",
   "execution_count": 10,
   "metadata": {},
   "outputs": [
    {
     "data": {
      "text/plain": [
       "[(u'fps', 30),\n",
       " (u'codec', 828601953),\n",
       " (u'height', 3008),\n",
       " (u'width', 4112),\n",
       " (u'total_frames', 561),\n",
       " (u'source',\n",
       "  '/home/jake/fish_videos/kowa_1dot5k0_5stickle4x4l_20170615_125516.libx264-crf20-mf-yuv420-gray.mp4')]"
      ]
     },
     "execution_count": 10,
     "metadata": {},
     "output_type": "execute_result"
    }
   ],
   "source": [
    "zip(f.attrs.keys(), f.attrs.values())"
   ]
  },
  {
   "cell_type": "code",
   "execution_count": 11,
   "metadata": {
    "collapsed": true
   },
   "outputs": [],
   "source": [
    "fps = f.attrs['fps']\n",
    "codec = f.attrs['codec']\n",
    "height = f.attrs['height']\n",
    "width = f.attrs['width']\n",
    "total_frames = f.attrs['total_frames']\n",
    "source = f.attrs['source']"
   ]
  },
  {
   "cell_type": "code",
   "execution_count": 12,
   "metadata": {
    "collapsed": true
   },
   "outputs": [],
   "source": [
    "f.close()"
   ]
  },
  {
   "cell_type": "code",
   "execution_count": 13,
   "metadata": {},
   "outputs": [
    {
     "data": {
      "text/plain": [
       "array([[[ 3077.79199219,   366.85922241],\n",
       "        [ 3067.19360352,   355.00949097],\n",
       "        [ 3056.12207031,   363.82391357],\n",
       "        [ 3066.16845703,   376.40402222]],\n",
       "\n",
       "       [[ 3067.9309082 ,   375.83428955],\n",
       "        [ 3056.26074219,   364.65313721],\n",
       "        [ 3046.47070312,   373.98098755],\n",
       "        [ 3056.86621094,   386.13861084]],\n",
       "\n",
       "       [[ 2764.06738281,   158.35499573],\n",
       "        [ 2763.93823242,   141.76173401],\n",
       "        [ 2749.73803711,   142.75585938],\n",
       "        [ 2748.95507812,   158.71234131]],\n",
       "\n",
       "       ..., \n",
       "       [[ 2178.9362793 ,  2780.27050781],\n",
       "        [ 2173.41430664,  2794.87695312],\n",
       "        [ 2187.94995117,  2800.76416016],\n",
       "        [ 2193.11401367,  2786.10205078]],\n",
       "\n",
       "       [[ 2413.89428711,  2727.72241211],\n",
       "        [ 2407.51245117,  2741.26074219],\n",
       "        [ 2421.48779297,  2749.06347656],\n",
       "        [ 2427.73535156,  2735.12988281]],\n",
       "\n",
       "       [[ 2172.00708008,  2625.12915039],\n",
       "        [ 2167.99853516,  2639.73193359],\n",
       "        [ 2182.26513672,  2645.29443359],\n",
       "        [ 2186.4284668 ,  2630.33520508]]])"
      ]
     },
     "execution_count": 13,
     "metadata": {},
     "output_type": "execute_result"
    }
   ],
   "source": [
    "corners"
   ]
  },
  {
   "cell_type": "code",
   "execution_count": 18,
   "metadata": {},
   "outputs": [
    {
     "data": {
      "text/plain": [
       "array([ 1, 21, 41, 61, 81], dtype=int32)"
      ]
     },
     "execution_count": 18,
     "metadata": {},
     "output_type": "execute_result"
    }
   ],
   "source": [
    "np.unique(identity[distances < 1])"
   ]
  },
  {
   "cell_type": "code",
   "execution_count": 21,
   "metadata": {
    "scrolled": false
   },
   "outputs": [
    {
     "data": {
      "image/png": "[encoded data removed]",
      "text/plain": [
       "<matplotlib.figure.Figure at 0x7f815440e890>"
      ]
     },
     "metadata": {},
     "output_type": "display_data"
    }
   ],
   "source": [
    "plt.hist(distances, bins=20)\n",
    "plt.show()"
   ]
  },
  {
   "cell_type": "code",
   "execution_count": null,
   "metadata": {
    "collapsed": true
   },
   "outputs": [],
   "source": []
  }
 ],
 "metadata": {
  "kernelspec": {
   "display_name": "Python 2",
   "language": "python",
   "name": "python2"
  },
  "language_info": {
   "codemirror_mode": {
    "name": "ipython",
    "version": 2
   },
   "file_extension": ".py",
   "mimetype": "text/x-python",
   "name": "python",
   "nbconvert_exporter": "python",
   "pygments_lexer": "ipython2",
   "version": "2.7.13"
  }
 },
 "nbformat": 4,
 "nbformat_minor": 2
}
