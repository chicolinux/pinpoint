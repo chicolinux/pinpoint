{
 "cells": [
  {
   "cell_type": "code",
   "execution_count": 2,
   "metadata": {
    "collapsed": false
   },
   "outputs": [],
   "source": [
    "# -*- coding: utf-8 -*-\n",
    "\n",
    "import cv2 \n",
    "import numpy as np\n",
    "import matplotlib.pyplot as plt\n",
    "import seaborn as sns\n",
    "import pandas as pd\n",
    "import time\n",
    "from scipy.spatial import distance as dist\n",
    "from pinpoint import TagList\n",
    "from numba import *\n",
    "import glob\n",
    "sns.set_style('ticks')\n",
    "%matplotlib inline\n",
    "cv2.setNumThreads(0)\n"
   ]
  },
  {
   "cell_type": "code",
   "execution_count": 3,
   "metadata": {
    "collapsed": false
   },
   "outputs": [],
   "source": [
    "@jit(nopython = True)\n",
    "def add_border(tag, tag_shape, white_width = 1, black_width = 2):\n",
    "    \n",
    "    \"\"\"Add black and white border to barcode tag.\n",
    "        \n",
    "        Parameters\n",
    "        ----------\n",
    "        tag : 1-D array_like\n",
    "            Flattened barcode tag.\n",
    "        tag_shape : tuple of int\n",
    "            Shape of the barcode tag without a border.\n",
    "        white_width : int\n",
    "            Width of white border.\n",
    "        black_width : int\n",
    "            Width of black border.\n",
    "            \n",
    "        Returns\n",
    "        -------\n",
    "        bordered_tag : 1-D array\n",
    "            Returns tag with border added flattened to 1-D array.\n",
    "        \"\"\"\n",
    "    \n",
    "    tag = tag.reshape(tag_shape)\n",
    "\n",
    "    black_border = np.zeros((tag_shape[0]+(2*white_width)+(2*black_width),tag_shape[1]+(2*white_width)+(2*black_width)))\n",
    "    white_border = np.ones((tag_shape[0]+(2*white_width),tag_shape[1]+(2*white_width)))\n",
    "    \n",
    "    white_border[white_width:tag_shape[0]+white_width,white_width:tag_shape[1]+white_width] = tag\n",
    "    black_border[black_width:tag_shape[0]+(2*white_width)+black_width, black_width:tag_shape[1]+(2*white_width)+black_width] = white_border\n",
    "\n",
    "    tag = black_border\n",
    "    bordered_tag = tag.reshape((1,tag.shape[0]*tag.shape[1]))\n",
    "    tag_shape = black_border.shape\n",
    "    return  tag_shape, bordered_tag"
   ]
  },
  {
   "cell_type": "code",
   "execution_count": 4,
   "metadata": {
    "collapsed": false
   },
   "outputs": [],
   "source": [
    "tags = TagList()\n",
    "#tags.load('/Users/Jake/Google Drive/barcodes_for_fish/master_list.pkl')\n",
    "tags.load('/Users/Jake/Google Drive/robust_8bit_barcodes/master_list.pkl')\n",
    "\n",
    "master_list = tags.master_list"
   ]
  },
  {
   "cell_type": "code",
   "execution_count": 5,
   "metadata": {
    "collapsed": false
   },
   "outputs": [],
   "source": [
    "IDs = tags.id_list"
   ]
  },
  {
   "cell_type": "code",
   "execution_count": 6,
   "metadata": {
    "collapsed": false
   },
   "outputs": [],
   "source": [
    "#master_list = master_list[(161 <= IDs) & ( IDs <= 180)]\n",
    "#master_list = master_list[(IDs == 163) | (IDs == 178) | (IDs == 162)]"
   ]
  },
  {
   "cell_type": "code",
   "execution_count": 7,
   "metadata": {
    "collapsed": false
   },
   "outputs": [],
   "source": [
    "#IDs = IDs[(161 <= IDs) & ( IDs <= 180)]\n",
    "#IDs = IDs[(IDs == 163) | (IDs == 178) | (IDs == 162)]"
   ]
  },
  {
   "cell_type": "code",
   "execution_count": 8,
   "metadata": {
    "collapsed": false
   },
   "outputs": [
    {
     "data": {
      "text/plain": [
       "array([[ 1.,  1.,  1., ...,  1.,  1.,  1.],\n",
       "       [ 1.,  1.,  1., ...,  1.,  1.,  1.],\n",
       "       [ 1.,  1.,  1., ...,  1.,  1.,  1.],\n",
       "       ..., \n",
       "       [ 1.,  1.,  1., ...,  1.,  1.,  1.],\n",
       "       [ 1.,  1.,  1., ...,  1.,  1.,  1.],\n",
       "       [ 1.,  1.,  1., ...,  1.,  1.,  1.]])"
      ]
     },
     "execution_count": 8,
     "metadata": {},
     "output_type": "execute_result"
    }
   ],
   "source": [
    "barcode_size = (7,7)\n",
    "barcodes = []\n",
    "for barcode in master_list:\n",
    "    tag_shape, barcode = add_border(barcode, (5,5), white_width = 1, black_width = 0)\n",
    "    barcode = barcode.reshape(tag_shape)\n",
    "    barcode = cv2.resize(barcode, barcode_size, interpolation = cv2.INTER_AREA)\n",
    "    #plt.imshow(barcode, cmap = 'gray', interpolation = 'None')\n",
    "    #plt.show()\n",
    "    barcode = barcode.flatten()\n",
    "    barcodes.append(barcode)\n",
    "barcodes = np.array(barcodes)\n",
    "#barcodes[barcodes == 0] = 0\n",
    "#barcodes[barcodes == 1] = 255\n",
    "barcodes"
   ]
  },
  {
   "cell_type": "code",
   "execution_count": 14,
   "metadata": {
    "collapsed": false
   },
   "outputs": [],
   "source": [
    "def crop(src, pt1, pt2):\n",
    "    \n",
    "    \"\"\" Returns a cropped version of src \"\"\"\n",
    "    \n",
    "    cropped = src[pt1[1]:pt2[1], pt1[0]:pt2[0]]\n",
    "    \n",
    "    return cropped\n",
    "\n",
    "@jit(nopython = True)\n",
    "def distance(vector):\n",
    " \n",
    "    \"\"\" Return distance of vector \"\"\"\n",
    "\n",
    "    return np.sqrt(np.sum(np.square(vector)))\n",
    "\n",
    "@jit(nopython = True)\n",
    "def _tl_right_distance(tl, right):\n",
    "    D = np.empty((2))\n",
    "    D[0] = distance(np.subtract(tl, right[0]))\n",
    "    D[1] = distance(np.subtract(tl, right[1]))\n",
    "    return D\n",
    "\n",
    "def order_points(pts):\n",
    "\n",
    "    \"\"\"Sorts a 4x2 array of coordinates clockwise from the top-left corner.\n",
    "\n",
    "        Parameters\n",
    "        ----------\n",
    "        pts : 4x2 array_like\n",
    "            2-dimensional array of x,y coordinates.\n",
    "            \n",
    "        Returns\n",
    "        -------\n",
    "        ordered_pts : 4x2 array_like\n",
    "            Sorted array of x,y coordinates.\n",
    "        \n",
    "        \"\"\"\n",
    "\n",
    "    # sort the points based on their x-coordinates\n",
    "    xsorted = pts[np.argsort(pts[:, 0])]\n",
    "    # grab the left-most and right-most points from the sorted\n",
    "    # x-coordinate points\n",
    "    left = xsorted[:2, :]\n",
    "    right = xsorted[2:, :]\n",
    " \n",
    "    # now, sort the left-most coordinates according to their\n",
    "    # y-coordinates so we can grab the top-left and bottom-left\n",
    "    # points, respectively\n",
    "    left = left[np.argsort(left[:, 1]), :]\n",
    "    (tl, bl) = left\n",
    " \n",
    "    # now that we have the top-left coordinate, use it as an\n",
    "    # anchor to calculate the Euclidean distance between the\n",
    "    # top-left and right-most points; by the Pythagorean\n",
    "    # theorem, the point with the largest distance will be\n",
    "    # our bottom-right point\n",
    "    \n",
    "    D = _tl_right_distance(tl, right)\n",
    "    \n",
    "    (br, tr) = right[np.argsort(D)[::-1], :]\n",
    "    \n",
    "    # return the coordinates in clockwise order \n",
    "    # top-left, top-right, bottom-right, bottom-left \n",
    "    ordered_pts = np.array([tl, tr, br, bl], dtype=\"float32\")\n",
    "\n",
    "    return ordered_pts\n",
    "\n",
    "def corr2_coeff(A,B):\n",
    "    # Rowwise mean of input arrays & subtract from input arrays themeselves\n",
    "    A_mA = np.subtract(A, np.mean(A, axis = 1)[:,None])\n",
    "    B_mB = np.subtract(B, np.mean(B, axis = 1)[:,None])\n",
    "\n",
    "    # Sum of squares across rows\n",
    "    ssA = np.sum(np.square(A_mA), axis = 1)\n",
    "    ssB = np.sum(np.square(B_mB), axis = 1)\n",
    "\n",
    "    # Finally get corr coeff\n",
    "    return np.divide(np.dot(A_mA,B_mB.T), np.sqrt(np.dot(ssA[:,None],ssB[None])))\n",
    "\n",
    "@jit(nopython = True)\n",
    "def python_corr_coeff(A,B):\n",
    "    \n",
    "    corr_array = np.empty((A.shape[0],1))\n",
    "    \n",
    "    for idx in range(A.shape[0]):\n",
    "        X = A[idx]\n",
    "        Y = B\n",
    "        correlation_top = np.sum(np.multiply(np.subtract(X, np.mean(X)),np.subtract(Y, np.mean(Y))))\n",
    "        correlation_bottom = np.multiply(np.sqrt(np.sum(np.square(np.subtract(X, np.mean(X))))), np.sqrt(np.sum(np.square(np.subtract(Y, np.mean(Y))))))\n",
    "        correlation = np.divide(correlation_top, correlation_bottom)\n",
    "        corr_array[idx] = correlation\n",
    "        \n",
    "    return corr_array\n",
    "\n",
    "def unit_vector(vector):\n",
    "\t\n",
    "\t\"\"\" Returns the unit vector of the vector.  \"\"\"\n",
    "\t\n",
    "\treturn np.divide(vector, np.linalg.norm(vector))\n",
    "\n",
    "@jit(nopython = True)\n",
    "def angle(vector, degrees = False):\n",
    "    x = vector[:,0]\n",
    "    y = vector[:,1]\n",
    "    angle = np.arctan2(y[-1] - y[0], x[-1] - x[0])\n",
    "    angle = angle % (2*np.pi)\n",
    "    if np.isnan(angle):\n",
    "        if (vector[1] == vector[0]).all():\n",
    "            angle = 0.0\n",
    "        else:\n",
    "            angle = 360.0\n",
    "    if degrees == True:\n",
    "        angle = np.degrees(angle)\n",
    "    return angle\n",
    "\n",
    "def get_grayscale(color_image, channel = None):\n",
    "\n",
    "\t\"\"\" Returns single-channel grayscale image from 3-channel BGR color image.\n",
    "\n",
    "\t\tParameters\n",
    "\t\t----------\n",
    "\t\tcolor_image : (MxNx3) numpy array\n",
    "\t\t\t3-channel BGR-format color image as a numpy array\n",
    "\t\tchannel : {'blue', 'green', 'red', 'none', None}, default = None\n",
    "\t\t\tThe color channel to use for producing the grayscale image.\n",
    "\t\t\tNone and 'none' default to cv2.cvtColor() using cv2.COLOR_BGR2GRAY. \n",
    "\t\t\tChannels 'blue', 'green', and 'red' use the respective color channel as the grayscale image. \n",
    "\t\t\tChannel 'green' typically provides the lowest noise, but this will depend on the lighting in the image.\n",
    "\t\t\t\n",
    "\t\tReturns\n",
    "\t\t-------\n",
    "\t\tgray_image : (MxNx1) numpy array\n",
    "\t\t\tSingle-channel grayscale image as a numpy array.\n",
    "\n",
    "\t\"\"\"\n",
    "\tassert channel in ['blue', 'green', 'red', 'none', None], \"channel must be 'blue', 'green', 'red', 'none', or None\"\n",
    "\tassert type(color_image) == np.ndarray, \"image must be a numpy array\"\n",
    "\n",
    "\timage_shape = color_image.shape\n",
    "\tassert len(image_shape) == 3, \"image must be color\"\n",
    "\tassert color_image.shape[2] == 3, \"image must have 3 color channels\"\n",
    "\tassert color_image.dtype == np.uint8, \"image array must be dtype np.uint8\"\n",
    "\n",
    "\tif channel == 'blue':\n",
    "\t\tgray_image, _, _ = cv2.split(color_image)\n",
    "\tif channel == 'green':\n",
    "\t\t\t_, gray_image, _ = cv2.split(color_image)\n",
    "\tif channel == 'red':\n",
    "\t\t_, _, gray_image = cv2.split(color_image)\n",
    "\tif channel == None or channel == 'none':\n",
    "\t\tgray_image = cv2.cvtColor(color_image, cv2.COLOR_BGR2GRAY)\n",
    "\n",
    "\treturn gray_image\n",
    "\n",
    "def get_threshold(gray_image, block_size = 1001, offset = 2):\n",
    "\n",
    "\t\"\"\" Returns binarized thresholded image from single-channel grayscale image.\n",
    "\n",
    "\t\tParameters\n",
    "\t\t----------\n",
    "\t\tgray_image : (MxNx1) numpy array\n",
    "\t\t\tSingle-channel grayscale image as a numpy array\n",
    "\t\tblock_size : int, default = 1001\n",
    "\t\t\tOdd value integer. Size of the local neighborhood for adaptive thresholding.\n",
    "\t\toffset : default = 2\n",
    "\t\t\tConstant subtracted from the mean. Normally, it is positive but may be zero or negative as well. \n",
    "\t\t\tThe threshold value T(x,y) is a mean of the block_size x block_size neighborhood of (x, y) minus offset.\n",
    "\n",
    "\t\tReturns\n",
    "\t\t-------\n",
    "\t\tthreshold_image : (MxNx1) numpy array\n",
    "\t\t\tBinarized (0, 255) image as a numpy array.\n",
    "\n",
    "\t\"\"\"\n",
    "\n",
    "\tassert block_size % 2 == 1, \"block_size must be an odd value\"\n",
    "\tassert type(gray_image) == np.ndarray, \"image must be a numpy array\"\n",
    "\n",
    "\tassert len(gray_image.shape) == 2, \"image must be grayscale\"\n",
    "\tassert gray_image.dtype == np.uint8, \"image array must be dtype np.uint8\"\n",
    "\n",
    "\tthreshold_image = cv2.adaptiveThreshold(gray_image, 255, cv2.ADAPTIVE_THRESH_MEAN_C, cv2.THRESH_BINARY, block_size, offset)\n",
    "\n",
    "\treturn threshold_image\n",
    "\n",
    "def get_contours(threshold_image):\n",
    "\n",
    "\t\"\"\" Returns a list of contours from a binarized thresholded image.\n",
    "\n",
    "\t\tParameters\n",
    "\t\t----------\n",
    "\t\tthreshold_image : (MxNx1) numpy array\n",
    "\t\t\tBinarized threshold image as a numpy array\n",
    "\n",
    "\t\tReturns\n",
    "\t\t-------\n",
    "\t\tcontours : list\n",
    "\t\t\tList of contours extracted from threshold_image.\n",
    "\n",
    "\t\"\"\"\n",
    "\tassert len(set([0, 255]) - set(np.unique(threshold_image))) == 0, \"image must be binarized to (0, 255)\"\n",
    "\n",
    "\t_, contours, _ = cv2.findContours(threshold_image.copy(), cv2.RETR_TREE, cv2.CHAIN_APPROX_SIMPLE)\n",
    "\n",
    "\treturn contours\n"
   ]
  },
  {
   "cell_type": "code",
   "execution_count": 20,
   "metadata": {
    "collapsed": false,
    "scrolled": true
   },
   "outputs": [],
   "source": [
    "cv2.setNumThreads(0)\n",
    "#pt1 = (1200,800)\n",
    "#pt2 = (1700,1300)\n",
    "#cap = cv2.VideoCapture(\"/Users/Jake/Google Drive/test.mov\") \n",
    "#pt1 = (0,0)\n",
    "#pt2 = (1080,1500)\n",
    "#cap = cv2.VideoCapture(\"/Users/Jake/Google Drive/VID_20160719_103625.mp4\") \n",
    "#cap = cv2.VideoCapture(\"/Users/Jake/Downloads/VID_20160722_115829.mp4\") \n",
    "#cap = cv2.VideoCapture(\"/Users/Jake/Downloads/wetransfer-e18590/1471026246.44_fs_to_ffmpeg_nvenc-slow-gray.mp4\") \n",
    "#cap = cv2.VideoCapture(\"/Users/Jake/Google Drive/20160823_170206.nvenc-ll-gray.mp4\") \n",
    "#cap = cv2.VideoCapture(\"/Users/Jake/Google Drive/20160823_170206.nvenc-slow-yuv420-lq-gray.mp4\") \n",
    "#cap = cv2.VideoCapture(\"/Users/Jake/Google Drive/20160824_173801.nvenc-slow-yuv420-gray.mp4\") \n",
    "cap = cv2.VideoCapture(\"/Users/Jake/Google Drive/compression test videos/8-bit_13x13/nvenc-slow-yuv420.20160826_104737.nvenc-ll-gray.mp4\") \n",
    "\n",
    "cap.set(cv2.CAP_PROP_POS_FRAMES,0)\n",
    "\n",
    "#cap = cv2.VideoCapture(\"/Users/Jake/Downloads/GP050016.MP4\") \n",
    "\n",
    "#cap = cv2.VideoCapture(\"/Users/Jake/Downloads/1471025336.83_fs_to_ffmpeg_nvenc-slow-gray.mp4\") \n",
    "\n",
    "#cap = cv2.VideoCapture(finch_videos[1]) \n",
    "#cap = cv2.VideoCapture(\"/Users/Jake/Downloads/ZFichTests/GOPR0676.MP4\")\n",
    "\n",
    "#cap = cv2.VideoCapture(\"/Users/Jake/Google Drive/CLIP0000075_000.mov\")\n",
    "#pt1 = (1000,0)\n",
    "#pt2 = (3160,2160)\n",
    "\n",
    "n_frames = 0\n",
    "\n",
    "best_values = []\n",
    "area_list = []\n",
    "peri_list = []\n",
    "periratio_list = []\n",
    "periarea_list = []\n",
    "ID_list = []\n",
    "#approx_list = []\n",
    "matched_list = []\n",
    "# Define the codec and create VideoWriter object\n",
    "fourcc = cv2.VideoWriter_fourcc('A','V','C','1')\n",
    "#out = cv2.VideoWriter('output.mp4',fourcc, 15.0, (1960, 1080), True)\n",
    "out = cv2.VideoWriter('output.mp4',fourcc, 30.0, (2048, 2048), True)\n",
    "\n",
    "out.set(cv2.VIDEOWRITER_PROP_QUALITY, 100)\n",
    "cv2.namedWindow(\"Video\")\n",
    "cv2.namedWindow(\"thresh\")\n",
    "font = cv2.FONT_HERSHEY_SIMPLEX\n",
    "\n",
    "flat_len = barcode_size[0]*barcode_size[1]   \n",
    "\n",
    "maxSide = 200\n",
    "length = maxSide - 1\n",
    "\n",
    "dst = np.array([\n",
    "            [0, 0],\n",
    "            [length, 0],\n",
    "            [length, length],\n",
    "            [0, length]], dtype = \"float32\")\n",
    "\n",
    "ntags_list = []\n",
    "nframes_list = []\n",
    "mean_best_values = []\n",
    "std_best_values = []\n",
    "processing_times = []\n",
    "while cap.isOpened():  \n",
    "    \n",
    "    ret, image = cap.read()\n",
    "    \n",
    "    if ret:\n",
    "        t0 = time.time()\n",
    "        n_tags = 0\n",
    "        pixel_values = []\n",
    "        warped_list = []\n",
    "        \n",
    "        #image = crop(image, pt1, pt2)\n",
    "        #cropped = cv2.resize(cropped, (0,0), None, fx = 0.33, fy = 0.33, interpolation = cv2.INTER_LINEAR)\n",
    "\n",
    "        #image = cv2.resize(image, (0,0), None, fx = 2, fy = 2, interpolation = cv2.INTER_AREA)\n",
    "        \n",
    "\n",
    "        display_img = image.copy()\n",
    "\n",
    "        #_, gray, _ = cv2.split(image)\n",
    "        gray = get_grayscale(image, channel = 'green')\n",
    "        #gray = cv2.GaussianBlur(gray, (1,1), 1)\n",
    "        #thresh = cv2.adaptiveThreshold(gray, 255, cv2.ADAPTIVE_THRESH_MEAN_C, cv2.THRESH_BINARY, 1001, 0)\n",
    "        thresh = get_threshold(gray, block_size = 11, offset = 8)\n",
    "        #ret, thresh = cv2.threshold(gray, 150, 255, cv2.THRESH_BINARY)\n",
    "        #contour_image, contours, hierarchy = cv2.findContours(thresh.copy(), cv2.RETR_TREE, cv2.CHAIN_APPROX_SIMPLE)\n",
    "        contours = get_contours(thresh)\n",
    "        #cv2.drawContours(display_img, contours, -1, (0,0,255), 3)\n",
    "        edge_thresh = 1\n",
    "        image_shape = image.shape\n",
    "        maxx_thresh = image_shape[1] - edge_thresh\n",
    "        maxy_thresh = image_shape[0] - edge_thresh\n",
    "        \n",
    "        best_values = []\n",
    "        for cnt in contours:\n",
    "            \n",
    "            cnt_shape = cnt.shape\n",
    "\n",
    "            if cnt_shape[0] >= 4:\n",
    "                \n",
    "                area = cv2.contourArea(cnt, True)\n",
    "\n",
    "                if -30 > area > -800:\n",
    "                    \n",
    "                    cnt_reshape = cnt.reshape((cnt_shape[0], cnt_shape[2]))\n",
    "                    cnt_x = cnt_reshape[:,0]\n",
    "                    cnt_y = cnt_reshape[:,1]\n",
    "                    flat = cnt.flatten()\n",
    "                    edge_zero = np.sum(flat <= edge_thresh)\n",
    "                    edge_maxx = np.sum(cnt_x >= maxx_thresh)\n",
    "                    edge_maxy = np.sum(cnt_y >= maxy_thresh)\n",
    "\n",
    "                    if edge_zero == 0 and edge_maxx == 0 and edge_maxy == 0:\n",
    "                        \n",
    "                        peri_cnt = cv2.arcLength(cnt, True)\n",
    "\n",
    "                        approx = cv2.approxPolyDP(cnt, 0.05 * peri_cnt, True)\n",
    "                    \n",
    "                        #cv2.drawContours(display_img, [approx], -1, (127,0,255), 3)\n",
    "\n",
    "                        poly_area = cv2.contourArea(approx, True)\n",
    "\n",
    "                        if len(approx) == 4 and -30 > poly_area > -800 and cv2.isContourConvex(approx) and 10 < peri_cnt < 300:\n",
    "                            peri_approx = cv2.arcLength(approx, True)\n",
    "\n",
    "                            peri_ratio = peri_cnt/peri_approx\n",
    "                            periarea = peri_cnt/area\n",
    "                            \n",
    "                            #cv2.drawContours(display_img, [cnt], -1, (0,0,255), 2)\n",
    "                            \n",
    "                            if -100 < periarea <= 0:\n",
    "                            \n",
    "                                cv2.drawContours(display_img, [cnt], -1, (0,255,255), 1)\n",
    "\n",
    "                                peri_approx = cv2.arcLength(approx, True)\n",
    "\n",
    "                                cnt_shape = approx.shape\n",
    "                                pts = approx.reshape((cnt_shape[0], cnt_shape[-1]))\n",
    "\n",
    "                                pts = order_points(pts)\n",
    "                                (tl, tr, br, bl) = pts\n",
    "                                \n",
    "                                \n",
    "                                #top = distance(tr - tl)\n",
    "                                #right = distance(br - tr)\n",
    "                                #bottom = distance(bl - br)\n",
    "                                #left = distance(tl - bl)\n",
    "                                                                \n",
    "                                # compute the perspective transform matrix and then apply it\n",
    "                                M = cv2.getPerspectiveTransform(pts, dst)\n",
    "                                warped = cv2.warpPerspective(gray, M, (maxSide, maxSide), borderValue = 255 )\n",
    "                                warped = ( warped - warped.mean() ) / warped.std()\n",
    "                                warped_list.append(warped)\n",
    "                                resize_warp = cv2.resize(warped, barcode_size, interpolation = cv2.INTER_AREA)\n",
    "                                resize_warp = ( resize_warp - resize_warp.mean() ) / resize_warp.std()\n",
    "\n",
    "                                pixel_values.append(resize_warp)\n",
    "\n",
    "                                correlation = corr2_coeff(barcodes, resize_warp.reshape((1,flat_len)))\n",
    "                                best_value = np.max(correlation)\n",
    "\n",
    "                                best_values.append(best_value)\n",
    "                                area_list.append(area)\n",
    "                                peri_list.append(peri_cnt)\n",
    "                                periratio_list.append(peri_ratio)\n",
    "                                periarea_list.append(peri_cnt/area)\n",
    "                                \n",
    "                                if best_value > 0.75:\n",
    "                                    \n",
    "                                    \n",
    "                                    #best_values.append(best_value)\n",
    "                                    #area_list.append(area)\n",
    "                                    best_index = np.argmax(correlation)\n",
    "\n",
    "                                    ID = IDs[best_index]\n",
    "                                    ID_list.append(ID)\n",
    "                                    centroid = pts.mean(0)\n",
    "                                    y_offset = 0\n",
    "                                    x_offset = 0\n",
    "                                    bottom_centroid = tuple((centroid + np.array([x_offset,-1*y_offset])).astype(int))\n",
    "                                    top_centroid = tuple((centroid + np.array([x_offset,y_offset])).astype(int))\n",
    "                                    mid_centroid = tuple((centroid + np.array([x_offset,0])).astype(int))\n",
    "                                    centroid = tuple(centroid)\n",
    "\n",
    "                                    rotate_test = best_index % 4\n",
    "\n",
    "                                    if rotate_test == 3:\n",
    "                                        edge = tuple(np.mean([tl, tr], axis = 0))\n",
    "                                    if rotate_test == 0:\n",
    "                                        edge = tuple(np.mean([tl, bl], axis = 0))\n",
    "                                    if rotate_test == 1:\n",
    "                                        edge = tuple(np.mean([br, bl], axis = 0))\n",
    "                                    if rotate_test == 2:\n",
    "                                        edge = tuple(np.mean([br, tr], axis = 0))\n",
    "                                    cv2.drawContours(display_img, [approx], -1, (0,255,0), 1)\n",
    "\n",
    "                                    #cv2.circle(display_img,tuple(pts[0]), rad, (255,0,0), -1)\n",
    "                                    #cv2.circle(display_img,tuple(pts[1]), rad, (0,255,0), -1)\n",
    "                                    #cv2.circle(display_img,tuple(pts[2]), rad, (0,0,255), -1)\n",
    "                                    #cv2.circle(display_img,tuple(pts[3]), rad, (255,0,255), -1)\n",
    "\n",
    "                                    #cv2.circle(display_img,centroid, rad, (0,255,0), -1)\n",
    "\n",
    "                                    vector = np.array([centroid, edge])\n",
    "                                    vector_angle = angle(vector, True)\n",
    "\n",
    "                                    angle_str = '%.0f' % vector_angle\n",
    "                                    bestval_str = '%.2f' % best_value\n",
    "                                    \n",
    "                                    cv2.arrowedLine(display_img, centroid, edge, (0,0,255), 1, tipLength = 0.5)\n",
    "\n",
    "                                    font_scale = 0.5\n",
    "                                    outline_font = 5\n",
    "                                    inline_font = 2\n",
    "\n",
    "\n",
    "                                    cv2.putText(display_img,str(ID),mid_centroid, font, font_scale,(0,0,0),outline_font,cv2.LINE_AA)\n",
    "                                    cv2.putText(display_img,str(ID),mid_centroid, font, font_scale,(255,255,255),inline_font,cv2.LINE_AA)\n",
    "\n",
    "                                    #cv2.putText(display_img,\"ID: \" + str(ID),top_centroid, font, font_scale,(0,0,0),outline_font,cv2.LINE_AA)\n",
    "                                    #cv2.putText(display_img,\"ID: \" + str(ID),top_centroid, font, font_scale,(255,255,255),inline_font,cv2.LINE_AA)\n",
    "\n",
    "                                    #cv2.putText(display_img,\"O: \" + angle_str, mid_centroid, font, font_scale, (0,0,0),outline_font,cv2.LINE_AA)\n",
    "                                    #cv2.putText(display_img,\"O: \" + angle_str, mid_centroid, font, font_scale, (255,255,255),inline_font,cv2.LINE_AA)\n",
    "\n",
    "                                    #cv2.putText(display_img,\"C: \" + bestval_str, bottom_centroid, font, font_scale, (0,0,0),outline_font,cv2.LINE_AA)\n",
    "                                    #cv2.putText(display_img,\"C: \" + bestval_str, bottom_centroid, font, font_scale, (255,255,255),inline_font,cv2.LINE_AA)\n",
    "\n",
    "                                    n_tags += 1\n",
    "\n",
    "        pixel_values = np.array(pixel_values)\n",
    "        t1 = time.time()\n",
    "        dtime = t1 - t0\n",
    "        processing_times.append(dtime)\n",
    "        #cv2.putText(display_img,\"Number of Barcodes: \" + str(n_tags),(30,50), font, 1,(0,0,0),15,cv2.LINE_AA)\n",
    "        cv2.putText(display_img,\"Number of Barcodes: \" + str(n_tags),(30,50), font, 1,(255,255,255),3,cv2.LINE_AA)\n",
    "        mean_best_values.append(np.mean(best_values))\n",
    "        std_best_values.append(np.std(best_values))\n",
    "        ntags_list.append(n_tags)\n",
    "        nframes_list.append(cap.get(cv2.CAP_PROP_POS_FRAMES))\n",
    "        \n",
    "        #display_img = cv2.resize(display_img, (1960,1080), None)\n",
    "\n",
    "        #display_img = cv2.resize(display_img, (1440,810), None)\n",
    "        #display_img = cv2.resize(display_img, (2048,2048), None)\n",
    "\n",
    "        #out.write(display_img)\n",
    "\n",
    "        display_img = cv2.resize(display_img, (1400,1400), None)\n",
    "\n",
    "        #display_img = cv2.resize(display_img, (0,0), None, fx = 0.3, fy = 0.3)\n",
    "        #thresh = cv2.resize(thresh, (0,0), None, fx = 0.3, fy = 0.3)\n",
    "\n",
    "        #thresh = cv2.resize(thresh, (2048,2048), None)\n",
    "\n",
    "        #thresh = cv2.resize(thresh, (1440,810), None)\n",
    "        #thresh = cv2.resize(thresh, (1960,1080), None)\n",
    "\n",
    "        #thresh = cv2.cvtColor(thresh, cv2.COLOR_GRAY2BGR)\n",
    "        #display_img[-1000:,:] = thresh[:1000,:]\n",
    "\n",
    "        \n",
    "        #display_img = cv2.resize(display_img, (0,0), None, fx = 0.5, fy = 0.5, )\n",
    "\n",
    "        cv2.imshow('Video', display_img)\n",
    "        #cv2.imshow('gray', gray)\n",
    "        \n",
    "        #cv2.imshow(\"thresh\", thresh)\n",
    "        n_frames += 1\n",
    "    elif cap.get(cv2.CAP_PROP_POS_FRAMES) == cap.get(cv2.CAP_PROP_FRAME_COUNT):\n",
    "        break\n",
    "    if cv2.waitKey(1) & 0xFF == 27:\n",
    "        break\n",
    "        \n",
    "cap.release()\n",
    "out.release()\n",
    "cv2.destroyAllWindows()\n",
    "\n",
    "for i in range(5):\n",
    "    cv2.waitKey(1)\n"
   ]
  },
  {
   "cell_type": "code",
   "execution_count": 139,
   "metadata": {
    "collapsed": false
   },
   "outputs": [
    {
     "data": {
      "text/plain": [
       "array([[  8.45719737e-01,   4.01184449e-02,   1.56000000e+02,\n",
       "          3.50338936e-01,   1.00000000e+00],\n",
       "       [  8.45701495e-01,   4.01144611e-02,   1.56000000e+02,\n",
       "          3.85346889e-01,   2.00000000e+00],\n",
       "       [  8.45735194e-01,   4.01004959e-02,   1.56000000e+02,\n",
       "          3.83723974e-01,   3.00000000e+00],\n",
       "       ..., \n",
       "       [             nan,              nan,   0.00000000e+00,\n",
       "          1.60843134e-01,   3.56100000e+03],\n",
       "       [             nan,              nan,   0.00000000e+00,\n",
       "          1.69244051e-01,   3.56200000e+03],\n",
       "       [             nan,              nan,   0.00000000e+00,\n",
       "          1.57210112e-01,   3.56300000e+03]])"
      ]
     },
     "execution_count": 139,
     "metadata": {},
     "output_type": "execute_result"
    }
   ],
   "source": [
    "data_array = np.array([mean_best_values, std_best_values, ntags_list, processing_times, nframes_list]).T\n",
    "data_array"
   ]
  },
  {
   "cell_type": "code",
   "execution_count": 140,
   "metadata": {
    "collapsed": false
   },
   "outputs": [],
   "source": [
    "import pandas as pd"
   ]
  },
  {
   "cell_type": "code",
   "execution_count": 141,
   "metadata": {
    "collapsed": false,
    "scrolled": true
   },
   "outputs": [
    {
     "data": {
      "text/html": [
       "<div>\n",
       "<table border=\"1\" class=\"dataframe\">\n",
       "  <thead>\n",
       "    <tr style=\"text-align: right;\">\n",
       "      <th></th>\n",
       "      <th>mean_corr</th>\n",
       "      <th>std_corr</th>\n",
       "      <th>ntags</th>\n",
       "      <th>proc_time</th>\n",
       "      <th>frame</th>\n",
       "    </tr>\n",
       "  </thead>\n",
       "  <tbody>\n",
       "    <tr>\n",
       "      <th>0</th>\n",
       "      <td>0.845720</td>\n",
       "      <td>0.040118</td>\n",
       "      <td>156.0</td>\n",
       "      <td>0.350339</td>\n",
       "      <td>1.0</td>\n",
       "    </tr>\n",
       "    <tr>\n",
       "      <th>1</th>\n",
       "      <td>0.845701</td>\n",
       "      <td>0.040114</td>\n",
       "      <td>156.0</td>\n",
       "      <td>0.385347</td>\n",
       "      <td>2.0</td>\n",
       "    </tr>\n",
       "    <tr>\n",
       "      <th>2</th>\n",
       "      <td>0.845735</td>\n",
       "      <td>0.040100</td>\n",
       "      <td>156.0</td>\n",
       "      <td>0.383724</td>\n",
       "      <td>3.0</td>\n",
       "    </tr>\n",
       "    <tr>\n",
       "      <th>3</th>\n",
       "      <td>0.845699</td>\n",
       "      <td>0.040099</td>\n",
       "      <td>156.0</td>\n",
       "      <td>0.411289</td>\n",
       "      <td>4.0</td>\n",
       "    </tr>\n",
       "    <tr>\n",
       "      <th>4</th>\n",
       "      <td>0.845114</td>\n",
       "      <td>0.040232</td>\n",
       "      <td>156.0</td>\n",
       "      <td>0.400035</td>\n",
       "      <td>5.0</td>\n",
       "    </tr>\n",
       "  </tbody>\n",
       "</table>\n",
       "</div>"
      ],
      "text/plain": [
       "   mean_corr  std_corr  ntags  proc_time  frame\n",
       "0   0.845720  0.040118  156.0   0.350339    1.0\n",
       "1   0.845701  0.040114  156.0   0.385347    2.0\n",
       "2   0.845735  0.040100  156.0   0.383724    3.0\n",
       "3   0.845699  0.040099  156.0   0.411289    4.0\n",
       "4   0.845114  0.040232  156.0   0.400035    5.0"
      ]
     },
     "execution_count": 141,
     "metadata": {},
     "output_type": "execute_result"
    }
   ],
   "source": [
    "df = pd.DataFrame(data_array, columns = [\"mean_corr\",\"std_corr\", \"ntags\", \"proc_time\", \"frame\"])\n",
    "df.to_csv(\"slow_yuv_420_lg30.csv\", index = False)\n",
    "df.head()"
   ]
  },
  {
   "cell_type": "code",
   "execution_count": 119,
   "metadata": {
    "collapsed": false
   },
   "outputs": [],
   "source": [
    "lossless_time = []\n",
    "lossy_time = []\n",
    "nframes_list = []\n",
    "for nframes in range(1,51):\n",
    "    nframes_list.append(nframes)\n",
    "    cap = cv2.VideoCapture(\"/Users/Jake/Google Drive/compression test videos/20160826_104737.nvenc-ll-gray.mp4\") \n",
    "    t0 = time.time()\n",
    "\n",
    "    for i in range(nframes):\n",
    "        ret,image = cap.read()\n",
    "    \n",
    "    t1 = time.time()\n",
    "\n",
    "    cap.release()\n",
    "    lossless_time.append(t1 - t0)\n",
    "\n",
    "\n",
    "    cap = cv2.VideoCapture(\"/Users/Jake/Google Drive/compression test videos/nvenc-slow-yuv420.20160826_104737.nvenc-ll-gray.mp4\") \n",
    "    t0 = time.time()\n",
    "\n",
    "    for i in range(nframes):\n",
    "        ret,image = cap.read()\n",
    "    t1 = time.time()\n",
    "\n",
    "    cap.release()\n",
    "    lossy_time.append(t1 - t0)"
   ]
  },
  {
   "cell_type": "code",
   "execution_count": 124,
   "metadata": {
    "collapsed": false
   },
   "outputs": [
    {
     "data": {
      "image/png": "[encoded data removed]",
      "text/plain": [
       "<matplotlib.figure.Figure at 0x10f9cd050>"
      ]
     },
     "metadata": {},
     "output_type": "display_data"
    }
   ],
   "source": [
    "#plt.plot(nframes_list, lossless_time, 'g-', label = 'Lossless')\n",
    "#plt.plot(nframes_list, lossy_time, 'b-', label = 'Lossy (slow-yuv420)')\n",
    "plt.plot(nframes_list, np.divide(lossless_time, lossy_time))\n",
    "plt.legend(loc = 'best')\n",
    "plt.xlabel('N frames')\n",
    "plt.ylabel('Lossless time / lossy time')\n",
    "plt.savefig('lossless_vs_lossy_decode.png')\n",
    "plt.ylim(1,4)\n",
    "plt.show()"
   ]
  },
  {
   "cell_type": "code",
   "execution_count": 31,
   "metadata": {
    "collapsed": false
   },
   "outputs": [
    {
     "name": "stdout",
     "output_type": "stream",
     "text": [
      "Frames per second:  1.5715576797\n",
      "Seconds processing per second of video (30 fps):  19.0893407143\n"
     ]
    }
   ],
   "source": [
    "print \"Frames per second: \", fps\n",
    "print \"Seconds processing per second of video (30 fps): \", dtime/(n_frames/30.)"
   ]
  },
  {
   "cell_type": "code",
   "execution_count": 180,
   "metadata": {
    "collapsed": true
   },
   "outputs": [],
   "source": [
    "rw_mean = resize_warp.mean()\n",
    "resize_warp[resize_warp >= rw_mean] = 255\n",
    "resize_warp[resize_warp < rw_mean] = 0"
   ]
  },
  {
   "cell_type": "code",
   "execution_count": 25,
   "metadata": {
    "collapsed": true
   },
   "outputs": [],
   "source": [
    "from skimage.segmentation import slic\n",
    "from skimage.segmentation import mark_boundaries\n"
   ]
  },
  {
   "cell_type": "code",
   "execution_count": 43,
   "metadata": {
    "collapsed": false
   },
   "outputs": [
    {
     "data": {
      "text/plain": [
       "(50, 50)"
      ]
     },
     "execution_count": 43,
     "metadata": {},
     "output_type": "execute_result"
    }
   ],
   "source": [
    "segments.shape"
   ]
  },
  {
   "cell_type": "code",
   "execution_count": 12,
   "metadata": {
    "collapsed": false,
    "scrolled": false
   },
   "outputs": [
    {
     "name": "stdout",
     "output_type": "stream",
     "text": [
      "Probability of match:  0.819724919104\n"
     ]
    },
    {
     "data": {
      "image/png": "[encoded data removed]",
      "text/plain": [
       "<matplotlib.figure.Figure at 0x13fb89390>"
      ]
     },
     "metadata": {},
     "output_type": "display_data"
    },
    {
     "data": {
      "image/png": "[encoded data removed]",
      "text/plain": [
       "<matplotlib.figure.Figure at 0x150a89dd0>"
      ]
     },
     "metadata": {},
     "output_type": "display_data"
    },
    {
     "data": {
      "image/png": "[encoded data removed]",
      "text/plain": [
       "<matplotlib.figure.Figure at 0x12035ca50>"
      ]
     },
     "metadata": {},
     "output_type": "display_data"
    }
   ],
   "source": [
    "print \"Probability of match: \", best_value\n",
    "plt.imshow(warped, cmap='gray', interpolation = 'none')\n",
    "plt.title(\"Extracted\")\n",
    "plt.show()\n",
    "plt.imshow(resize_warp, cmap = 'gray', interpolation = 'none')\n",
    "plt.title(\"Resized\")\n",
    "plt.show()\n",
    "plt.imshow(barcodes[best_index].reshape(barcode_size), cmap = 'gray', interpolation = 'none')\n",
    "plt.title(\"Matched\")\n",
    "plt.show()"
   ]
  },
  {
   "cell_type": "code",
   "execution_count": 13,
   "metadata": {
    "collapsed": false
   },
   "outputs": [
    {
     "data": {
      "image/png": "[encoded data removed]",
      "text/plain": [
       "<matplotlib.figure.Figure at 0x116553810>"
      ]
     },
     "metadata": {},
     "output_type": "display_data"
    }
   ],
   "source": [
    "plt.figure(figsize = (20,10))\n",
    "#plt.plot(np.arange(len(best_values)), best_values, 'k,', alpha = 0.5)\n",
    "plt.plot(area_list, best_values, 'k.', alpha = 0.5)\n",
    "\n",
    "#plt.ylim(0.5,1)\n",
    "plt.show()"
   ]
  },
  {
   "cell_type": "code",
   "execution_count": 20,
   "metadata": {
    "collapsed": false
   },
   "outputs": [
    {
     "data": {
      "image/png": "[encoded data removed]",
      "text/plain": [
       "<matplotlib.figure.Figure at 0x11cbf4ad0>"
      ]
     },
     "metadata": {},
     "output_type": "display_data"
    }
   ],
   "source": [
    "plt.figure(figsize = (20,10))\n",
    "#plt.plot(np.arange(len(best_values)), best_values, 'k,', alpha = 0.5)\n",
    "plt.plot(periarea_list, best_values, 'k.', alpha = 0.5)\n",
    "\n",
    "plt.ylim(0,1)\n",
    "#plt.xlim(-0.2, 0)\n",
    "plt.show()"
   ]
  },
  {
   "cell_type": "code",
   "execution_count": 45,
   "metadata": {
    "collapsed": false
   },
   "outputs": [
    {
     "data": {
      "text/plain": [
       "3"
      ]
     },
     "execution_count": 45,
     "metadata": {},
     "output_type": "execute_result"
    }
   ],
   "source": [
    "cv2.VIDEOWRITER_PROP_NSTRIPES"
   ]
  },
  {
   "cell_type": "code",
   "execution_count": 49,
   "metadata": {
    "collapsed": false
   },
   "outputs": [
    {
     "data": {
      "text/plain": [
       "array([[ -1.38945470e+00,   5.76115362e-01,   2.93042773e+03],\n",
       "       [ -4.80805312e-01,  -1.47675917e+00,   4.83391358e+03],\n",
       "       [ -3.88761451e-04,  -5.20939322e-04,   1.00000000e+00]])"
      ]
     },
     "execution_count": 49,
     "metadata": {},
     "output_type": "execute_result"
    }
   ],
   "source": [
    "test_M"
   ]
  },
  {
   "cell_type": "code",
   "execution_count": 50,
   "metadata": {
    "collapsed": true
   },
   "outputs": [],
   "source": [
    "import math"
   ]
  },
  {
   "cell_type": "code",
   "execution_count": 59,
   "metadata": {
    "collapsed": true
   },
   "outputs": [],
   "source": [
    "def isRotationMatrix(R) :\n",
    "    Rt = np.transpose(R)\n",
    "    shouldBeIdentity = np.dot(Rt, R)\n",
    "    I = np.identity(3, dtype = R.dtype)\n",
    "    n = np.linalg.norm(I - shouldBeIdentity)\n",
    "    return n < 1e-1\n",
    " \n",
    " \n",
    "# Calculates rotation matrix to euler angles\n",
    "# The result is the same as MATLAB except the order\n",
    "# of the euler angles ( x and z are swapped ).\n",
    "def rotationMatrixToEulerAngles(R) :\n",
    " \n",
    "    #assert(isRotationMatrix(R))\n",
    "     \n",
    "    sy = math.sqrt(R[0,0] * R[0,0] +  R[1,0] * R[1,0])\n",
    "     \n",
    "    singular = sy < 1e-6\n",
    " \n",
    "    if  not singular :\n",
    "        x = math.atan2(R[2,1] , R[2,2])\n",
    "        y = math.atan2(-R[2,0], sy)\n",
    "        z = math.atan2(R[1,0], R[0,0])\n",
    "    else :\n",
    "        x = math.atan2(-R[1,2], R[1,1])\n",
    "        y = math.atan2(-R[2,0], sy)\n",
    "        z = 0\n",
    " \n",
    "    return np.array([x, y, z])"
   ]
  },
  {
   "cell_type": "code",
   "execution_count": 60,
   "metadata": {
    "collapsed": false,
    "scrolled": true
   },
   "outputs": [
    {
     "name": "stdout",
     "output_type": "stream",
     "text": [
      "[ -5.20939275e-04   2.64411071e-04  -2.80845104e+00]\n"
     ]
    }
   ],
   "source": [
    "print rotationMatrixToEulerAngles(test_M)"
   ]
  },
  {
   "cell_type": "code",
   "execution_count": 55,
   "metadata": {
    "collapsed": false
   },
   "outputs": [
    {
     "data": {
      "text/plain": [
       "162.15979856720608"
      ]
     },
     "execution_count": 55,
     "metadata": {},
     "output_type": "execute_result"
    }
   ],
   "source": [
    "test_angle"
   ]
  },
  {
   "cell_type": "code",
   "execution_count": 12,
   "metadata": {
    "collapsed": false
   },
   "outputs": [
    {
     "data": {
      "text/plain": [
       "array([29, 30, 34, 35, 38, 43, 47, 50, 51, 54, 55, 58, 59])"
      ]
     },
     "execution_count": 12,
     "metadata": {},
     "output_type": "execute_result"
    }
   ],
   "source": [
    "np.unique(ID_list)"
   ]
  },
  {
   "cell_type": "code",
   "execution_count": 45,
   "metadata": {
    "collapsed": false
   },
   "outputs": [],
   "source": [
    "tag1 = np.array([2]*15 + [1]*10).astype(np.float64)\n",
    "tag2 = np.array([2]*20 + [1]*5).astype(np.float64)"
   ]
  },
  {
   "cell_type": "code",
   "execution_count": 46,
   "metadata": {
    "collapsed": false
   },
   "outputs": [
    {
     "data": {
      "text/plain": [
       "array([ 2.,  2.,  2.,  2.,  2.,  2.,  2.,  2.,  2.,  2.,  2.,  2.,  2.,\n",
       "        2.,  2.,  1.,  1.,  1.,  1.,  1.,  1.,  1.,  1.,  1.,  1.])"
      ]
     },
     "execution_count": 46,
     "metadata": {},
     "output_type": "execute_result"
    }
   ],
   "source": [
    "tag1"
   ]
  },
  {
   "cell_type": "code",
   "execution_count": 47,
   "metadata": {
    "collapsed": false
   },
   "outputs": [
    {
     "data": {
      "text/plain": [
       "array([ 2.,  2.,  2.,  2.,  2.,  2.,  2.,  2.,  2.,  2.,  2.,  2.,  2.,\n",
       "        2.,  2.,  2.,  2.,  2.,  2.,  2.,  1.,  1.,  1.,  1.,  1.])"
      ]
     },
     "execution_count": 47,
     "metadata": {},
     "output_type": "execute_result"
    }
   ],
   "source": [
    "tag2"
   ]
  },
  {
   "cell_type": "code",
   "execution_count": 48,
   "metadata": {
    "collapsed": true
   },
   "outputs": [],
   "source": [
    "import scipy.stats as sps"
   ]
  },
  {
   "cell_type": "code",
   "execution_count": 49,
   "metadata": {
    "collapsed": false
   },
   "outputs": [
    {
     "data": {
      "text/plain": [
       "(0.61237243569579458, 0.0011389435144915914)"
      ]
     },
     "execution_count": 49,
     "metadata": {},
     "output_type": "execute_result"
    }
   ],
   "source": [
    "sps.pearsonr(tag1, tag2)"
   ]
  },
  {
   "cell_type": "code",
   "execution_count": 89,
   "metadata": {
    "collapsed": true
   },
   "outputs": [],
   "source": [
    "import pinpoint"
   ]
  },
  {
   "cell_type": "code",
   "execution_count": 90,
   "metadata": {
    "collapsed": false
   },
   "outputs": [
    {
     "data": {
      "text/plain": [
       "'0.0.1'"
      ]
     },
     "execution_count": 90,
     "metadata": {},
     "output_type": "execute_result"
    }
   ],
   "source": [
    "pinpoint.__version__"
   ]
  },
  {
   "cell_type": "code",
   "execution_count": 91,
   "metadata": {
    "collapsed": false
   },
   "outputs": [
    {
     "ename": "AttributeError",
     "evalue": "'module' object has no attribute '__doi__'",
     "output_type": "error",
     "traceback": [
      "\u001b[0;31m---------------------------------------------------------------------------\u001b[0m",
      "\u001b[0;31mAttributeError\u001b[0m                            Traceback (most recent call last)",
      "\u001b[0;32m<ipython-input-91-b72cc8eaccd9>\u001b[0m in \u001b[0;36m<module>\u001b[0;34m()\u001b[0m\n\u001b[0;32m----> 1\u001b[0;31m \u001b[0mpinpoint\u001b[0m\u001b[0;34m.\u001b[0m\u001b[0m__doi__\u001b[0m\u001b[0;34m\u001b[0m\u001b[0m\n\u001b[0m",
      "\u001b[0;31mAttributeError\u001b[0m: 'module' object has no attribute '__doi__'"
     ]
    }
   ],
   "source": [
    "pinpoint.__doi__"
   ]
  },
  {
   "cell_type": "code",
   "execution_count": 97,
   "metadata": {
    "collapsed": false
   },
   "outputs": [
    {
     "data": {
      "text/plain": [
       "1"
      ]
     },
     "execution_count": 97,
     "metadata": {},
     "output_type": "execute_result"
    }
   ],
   "source": [
    "len(set([0,255,1]) - set([255,0]))"
   ]
  },
  {
   "cell_type": "code",
   "execution_count": 99,
   "metadata": {
    "collapsed": false
   },
   "outputs": [
    {
     "data": {
      "text/plain": [
       "{0, 255}"
      ]
     },
     "execution_count": 99,
     "metadata": {},
     "output_type": "execute_result"
    }
   ],
   "source": [
    "set(np.unique([0,255]))"
   ]
  },
  {
   "cell_type": "code",
   "execution_count": 75,
   "metadata": {
    "collapsed": false
   },
   "outputs": [
    {
     "data": {
      "text/plain": [
       "<matplotlib.image.AxesImage at 0x10d1de410>"
      ]
     },
     "execution_count": 75,
     "metadata": {},
     "output_type": "execute_result"
    },
    {
     "data": {
      "image/png": "[encoded data removed]",
      "text/plain": [
       "<matplotlib.figure.Figure at 0x10d1bce90>"
      ]
     },
     "metadata": {},
     "output_type": "display_data"
    }
   ],
   "source": [
    "plt.imshow(warped, cmap='gray', interpolation = 'none')"
   ]
  },
  {
   "cell_type": "code",
   "execution_count": 43,
   "metadata": {
    "collapsed": false
   },
   "outputs": [
    {
     "data": {
      "text/plain": [
       "9.2195444"
      ]
     },
     "execution_count": 43,
     "metadata": {},
     "output_type": "execute_result"
    }
   ],
   "source": [
    "distance(pts[0] - pts[1])"
   ]
  },
  {
   "cell_type": "code",
   "execution_count": 46,
   "metadata": {
    "collapsed": false
   },
   "outputs": [
    {
     "data": {
      "text/plain": [
       "9.2195444"
      ]
     },
     "execution_count": 46,
     "metadata": {},
     "output_type": "execute_result"
    }
   ],
   "source": [
    "top"
   ]
  },
  {
   "cell_type": "code",
   "execution_count": 47,
   "metadata": {
    "collapsed": false
   },
   "outputs": [
    {
     "data": {
      "text/plain": [
       "9.4868326"
      ]
     },
     "execution_count": 47,
     "metadata": {},
     "output_type": "execute_result"
    }
   ],
   "source": [
    "right"
   ]
  },
  {
   "cell_type": "code",
   "execution_count": 48,
   "metadata": {
    "collapsed": false
   },
   "outputs": [
    {
     "data": {
      "text/plain": [
       "8.2462111"
      ]
     },
     "execution_count": 48,
     "metadata": {},
     "output_type": "execute_result"
    }
   ],
   "source": [
    "bottom"
   ]
  },
  {
   "cell_type": "code",
   "execution_count": 49,
   "metadata": {
    "collapsed": false
   },
   "outputs": [
    {
     "data": {
      "text/plain": [
       "9.2195444"
      ]
     },
     "execution_count": 49,
     "metadata": {},
     "output_type": "execute_result"
    }
   ],
   "source": [
    "left"
   ]
  },
  {
   "cell_type": "code",
   "execution_count": 34,
   "metadata": {
    "collapsed": true
   },
   "outputs": [],
   "source": [
    "import time"
   ]
  },
  {
   "cell_type": "code",
   "execution_count": 40,
   "metadata": {
    "collapsed": false
   },
   "outputs": [
    {
     "name": "stdout",
     "output_type": "stream",
     "text": [
      "Pure Python runtime (s):  5.91849899292\n",
      "Python + Numba runtime (s):  16.1293859482\n"
     ]
    }
   ],
   "source": [
    "image = np.empty((2048,2048))\n",
    "pt1 = (500,500)\n",
    "pt2 = (1000,1000)\n",
    "\n",
    "def slow_crop(src, pt1, pt2):\n",
    "    \n",
    "    \"\"\" Returns a cropped version of src \"\"\"\n",
    "    \n",
    "    cropped = src[pt1[1]:pt2[1], pt1[0]:pt2[0]]\n",
    "    \n",
    "    return cropped\n",
    "\n",
    "n_iter = 10000000\n",
    "\n",
    "t0 = time.time()\n",
    "for i in range(n_iter):\n",
    "    cropped = slow_crop(image,pt1,pt2)\n",
    "t1 = time.time()\n",
    "print \"Pure Python runtime (s): \", (t1 - t0)#/n_iter\n",
    "\n",
    "t0 = time.time()\n",
    "for i in range(n_iter):\n",
    "    cropped = fast_crop(image,pt1,pt2)\n",
    "t1 = time.time()\n",
    "print \"Python + Numba runtime (s): \", (t1 - t0)#/n_iter"
   ]
  },
  {
   "cell_type": "code",
   "execution_count": 58,
   "metadata": {
    "collapsed": false
   },
   "outputs": [
    {
     "data": {
      "text/plain": [
       "array([[ 1755.,   165.],\n",
       "       [ 1764.,   170.],\n",
       "       [ 1759.,   179.],\n",
       "       [ 1750.,   174.]], dtype=float32)"
      ]
     },
     "execution_count": 58,
     "metadata": {},
     "output_type": "execute_result"
    }
   ],
   "source": [
    "pts"
   ]
  },
  {
   "cell_type": "code",
   "execution_count": null,
   "metadata": {
    "collapsed": true
   },
   "outputs": [],
   "source": []
  }
 ],
 "metadata": {
  "kernelspec": {
   "display_name": "Python 2",
   "language": "python",
   "name": "python2"
  },
  "language_info": {
   "codemirror_mode": {
    "name": "ipython",
    "version": 2
   },
   "file_extension": ".py",
   "mimetype": "text/x-python",
   "name": "python",
   "nbconvert_exporter": "python",
   "pygments_lexer": "ipython2",
   "version": "2.7.12"
  }
 },
 "nbformat": 4,
 "nbformat_minor": 0
}
